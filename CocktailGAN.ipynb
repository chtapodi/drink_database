{
 "cells": [
  {
   "cell_type": "code",
   "execution_count": 2,
   "metadata": {},
   "outputs": [],
   "source": [
    "import torch\n",
    "import numpy as np\n",
    "from drink_db import recipe, vector_holder, ingredient_handler,unit_converter,drink_index\n",
    "import secrets\n",
    "import matplotlib.pyplot as plt\n",
    "import torch.nn as nn\n",
    "import torch.nn.parallel\n",
    "import torch.backends.cudnn as cudnn\n",
    "import torch.optim as optim\n",
    "import torch.utils.data\n",
    "import torchvision.datasets as dset\n",
    "import torchvision.transforms as transforms\n",
    "import torchvision.utils as vutils\n",
    "import numpy as np\n",
    "import matplotlib.pyplot as plt\n",
    "import matplotlib.animation as animation\n",
    "import itertools\n",
    "import secrets\n",
    "from torch.utils.data import DataLoader\n",
    "from IPython.display import clear_output\n",
    "from numba import jit\n",
    "from numba.typed import List"
   ]
  },
  {
   "cell_type": "code",
   "execution_count": 2,
   "metadata": {
    "tags": []
   },
   "outputs": [
    {
     "name": "stdout",
     "output_type": "stream",
     "text": [
      "1.9.0\n",
      "True\n"
     ]
    }
   ],
   "source": [
    "print(torch.__version__)\n",
    "print(torch.cuda.is_available())"
   ]
  },
  {
   "cell_type": "code",
   "execution_count": 2,
   "metadata": {},
   "outputs": [],
   "source": [
    "class drink_generator :\n",
    "    def __init__(self,num_flavors,max_ingredients) :\n",
    "        self.num_flavors=num_flavors\n",
    "        self.max_ingredients=max_ingredients\n",
    "        self.randomizer= secrets.SystemRandom()\n",
    "        \n",
    "    def generate_empty(self) :\n",
    "        vector=np.zeros([self.num_flavors])\n",
    "        return vector\n",
    "        \n",
    "    def generate_ingredient(self) :\n",
    "        #this is to skew towards more 0s\n",
    "        vector=np.empty([self.num_flavors])\n",
    "        for index in range(self.num_flavors) :\n",
    "            val=self.randomizer.randint(-100,100)\n",
    "            if val<0:val=0\n",
    "            val=val/100\n",
    "            vector[index]=val\n",
    "        return vector\n",
    "    \n",
    "    def fill_out_recipe(self,recipe,fill_to=9) :\n",
    "        if (diff:=fill_to-len(recipe))>0 :\n",
    "            if isinstance(recipe,np.ndarray) :\n",
    "                for i in range(diff) :\n",
    "                    recipe=np.append(recipe,[self.generate_empty()], axis=0)\n",
    "            else :\n",
    "                for i in range(diff) :\n",
    "                    recipe.append(self.generate_empty())\n",
    "        return recipe\n",
    "    \n",
    "    \n",
    "    def generate_recipe_matrix(self) :\n",
    "        num_ingredients=self.randomizer.randint(2,self.max_ingredients)\n",
    "        total_volume=0\n",
    "        volumes=[]\n",
    "        recipe=[]\n",
    "        for i in range(num_ingredients) :\n",
    "            volume=self.randomizer.randint(1,100)\n",
    "            total_volume+=volume\n",
    "            volumes.append(volume)\n",
    "            ingredient=self.generate_ingredient()\n",
    "            recipe.append(ingredient)\n",
    "            \n",
    "        for ingredient,volume in zip(recipe,volumes) :\n",
    "            volume=volume/total_volume\n",
    "#             print(volume)\n",
    "#             print(ingredient)\n",
    "            ingredient=ingredient*volume\n",
    "#             print(ingredient)\n",
    "        recipe=[x for _,x in sorted(zip(volumes,recipe), key=lambda pair: pair[0],reverse=True)]\n",
    "        return recipe\n",
    "    \n",
    "    def convert_to_recipe(self,ingredient_matrix) :\n",
    "        recipe=np.sum(ingredient_matrix, axis=0, keepdims=True) \n",
    "        return recipe\n",
    "            \n",
    "            \n",
    "            \n",
    "            "
   ]
  },
  {
   "cell_type": "code",
   "execution_count": 3,
   "metadata": {},
   "outputs": [
    {
     "ename": "NameError",
     "evalue": "name 'drink_generator' is not defined",
     "output_type": "error",
     "traceback": [
      "\u001b[1;31m---------------------------------------------------------------------------\u001b[0m",
      "\u001b[1;31mNameError\u001b[0m                                 Traceback (most recent call last)",
      "\u001b[1;32m~\\AppData\\Local\\Temp/ipykernel_14232/1940902410.py\u001b[0m in \u001b[0;36m<module>\u001b[1;34m\u001b[0m\n\u001b[1;32m----> 1\u001b[1;33m \u001b[0mdg\u001b[0m\u001b[1;33m=\u001b[0m\u001b[0mdrink_generator\u001b[0m\u001b[1;33m(\u001b[0m\u001b[1;36m31\u001b[0m\u001b[1;33m,\u001b[0m\u001b[1;36m7\u001b[0m\u001b[1;33m)\u001b[0m\u001b[1;33m\u001b[0m\u001b[1;33m\u001b[0m\u001b[0m\n\u001b[0m\u001b[0;32m      2\u001b[0m \u001b[1;31m# for i in range(20) :\u001b[0m\u001b[1;33m\u001b[0m\u001b[1;33m\u001b[0m\u001b[0m\n\u001b[0;32m      3\u001b[0m \u001b[1;31m# print(dg.generate_recipe_matrix())\u001b[0m\u001b[1;33m\u001b[0m\u001b[1;33m\u001b[0m\u001b[0m\n",
      "\u001b[1;31mNameError\u001b[0m: name 'drink_generator' is not defined"
     ]
    }
   ],
   "source": [
    "dg=drink_generator(31,7)\n",
    "# for i in range(20) :\n",
    "# print(dg.generate_recipe_matrix())"
   ]
  },
  {
   "cell_type": "markdown",
   "metadata": {},
   "source": [
    "## Display methods ##"
   ]
  },
  {
   "cell_type": "code",
   "execution_count": 208,
   "metadata": {},
   "outputs": [],
   "source": [
    "def plot_matrix(matrix,names=None,title=\"\") :\n",
    "    \n",
    "    matrix[np.where(matrix > 0.005)]+=.4\n",
    "#     print(matrix)\n",
    "    plt.imshow(matrix, cmap='Blues', interpolation='nearest', origin='lower')\n",
    "\n",
    "    if names is not None :\n",
    "        plt.yticks(range(len(names)), names, fontsize='12')\n",
    "    plt.title(title)\n",
    "    plt.gca().invert_yaxis()\n",
    "    plt.show()\n",
    "    \n",
    "def print_data(matrix) :\n",
    "    if isinstance(matrix, torch.Tensor) :\n",
    "        matrix=matrix.detach().numpy()\n",
    "    if len(list(matrix.shape))==4 :\n",
    "        plot_matrix(matrix[0][0],title=matrix.shape)\n",
    "    elif len(list(matrix.shape))==3 :\n",
    "        plot_matrix(matrix[0],title=matrix.shape)\n",
    "    elif len(list(matrix.shape))==2 :\n",
    "        plot_matrix(matrix,title=matrix.shape)\n",
    "    else :\n",
    "        print(\"UNKNOWN SHAPE\",matrix.shape)"
   ]
  },
  {
   "attachments": {
    "1df76652-47d6-48e5-a65c-8b59b74632ef.png": {
     "image/png": "[encoded data removed]"
    }
   },
   "cell_type": "markdown",
   "metadata": {
    "tags": []
   },
   "source": [
    "# Permutation and distrobution information #\n",
    "The number of ingredients forms a fairly normal distrobution with the numbers as follows:\n",
    "\n",
    "## Numbers ##\n",
    "\n",
    "| ingredients | number of recipes |\n",
    "| --- | --- |\n",
    "| 2 | 8 |\n",
    "| 3 | 44 |\n",
    "| 4 | 74 |\n",
    "| 5 | 32 |\n",
    "| 6 | 13 |\n",
    "| 7 | 1 |\n",
    "\n",
    "\n",
    "## Percentages ##\n",
    "\n",
    "| ingredients | percentages |\n",
    "| --- | --- |\n",
    "| 2 | 4.5% |\n",
    "| 3 | 25.0% |\n",
    "| 4 | 42.0% |\n",
    "| 5 | 18.0% |\n",
    "| 6 | 7.0% |%\n",
    "| 7 | .05% |\n",
    "\n",
    "\n",
    "## Permutation distrobutions ##\n",
    "4 ingredients can generate 24 permutations, so an attempt to keep the number of permutation similr for other drinks is in order, while still having a reasonable sampling of each recipe.\n",
    "\n",
    "I ended up simply attempting to get the closes posible distrobution curves for total number of permutations, which was definitely not possble.\n",
    "\n",
    "This ends up generating the following number of permutations for values greater than 4.\n",
    "\n",
    "| ingredients | permutations |\n",
    "| --- | --- |\n",
    "| 5 | 28 |\n",
    "| 6 | 30 |\n",
    "| 7 | 25 |\n",
    "![image.png](attachment:1df76652-47d6-48e5-a65c-8b59b74632ef.png)\n"
   ]
  },
  {
   "cell_type": "code",
   "execution_count": 9,
   "metadata": {},
   "outputs": [],
   "source": [
    "def get_permutations(matrix,fill_to=9,permutation_limits={5:28,6:30,7:25,8:120,9:120}) :\n",
    "    '''This generates permutations of the passed in data. The max requirement is there as to not generate too many augmentations. \n",
    "    A recipe with 9 ingredients has 362880 permutations, which would significantly skew the dataset.'''\n",
    "    permutations=list(itertools.permutations(matrix))\n",
    "    selected_permutations=[]\n",
    "    if len(matrix) in permutation_limits.keys() :\n",
    "        num_to_get=permutation_limits[len(matrix)]\n",
    "        \n",
    "        while len(selected_permutations)<num_to_get :\n",
    "            selected_permutations.append(secrets.choice(permutations))\n",
    "    else :\n",
    "        selected_permutations=permutations\n",
    "\n",
    "    trimmed_permutations=[]\n",
    "    if len(matrix)<fill_to :\n",
    "            \n",
    "        trimmed_permutations=[np.array([np.array(dg.fill_out_recipe(list(p),fill_to=fill_to))]) for p in selected_permutations]\n",
    "    else :\n",
    "        trimmed_permutations=[np.array([np.array(list(p))]) for p in selected_permutations]\n",
    "    return np.array(trimmed_permutations)"
   ]
  },
  {
   "cell_type": "code",
   "execution_count": 4,
   "metadata": {},
   "outputs": [
    {
     "ename": "NameError",
     "evalue": "name 'get_permutations' is not defined",
     "output_type": "error",
     "traceback": [
      "\u001b[1;31m---------------------------------------------------------------------------\u001b[0m",
      "\u001b[1;31mNameError\u001b[0m                                 Traceback (most recent call last)",
      "\u001b[1;32m~\\AppData\\Local\\Temp/ipykernel_14232/3548667862.py\u001b[0m in \u001b[0;36m<module>\u001b[1;34m\u001b[0m\n\u001b[1;32m----> 1\u001b[1;33m \u001b[0mperms\u001b[0m\u001b[1;33m=\u001b[0m\u001b[0mget_permutations\u001b[0m\u001b[1;33m(\u001b[0m\u001b[0mdg\u001b[0m\u001b[1;33m.\u001b[0m\u001b[0mfill_out_recipe\u001b[0m\u001b[1;33m(\u001b[0m\u001b[0mmatrix\u001b[0m\u001b[1;33m,\u001b[0m\u001b[0mfill_to\u001b[0m\u001b[1;33m=\u001b[0m\u001b[1;36m8\u001b[0m\u001b[1;33m)\u001b[0m\u001b[1;33m,\u001b[0m\u001b[0mfill_to\u001b[0m\u001b[1;33m=\u001b[0m\u001b[1;36m8\u001b[0m\u001b[1;33m)\u001b[0m\u001b[1;33m\u001b[0m\u001b[1;33m\u001b[0m\u001b[0m\n\u001b[0m\u001b[0;32m      2\u001b[0m \u001b[0mfull_shuffled_perms\u001b[0m\u001b[1;33m=\u001b[0m\u001b[0mnp\u001b[0m\u001b[1;33m.\u001b[0m\u001b[0marray\u001b[0m\u001b[1;33m(\u001b[0m\u001b[1;33m[\u001b[0m\u001b[0mnp\u001b[0m\u001b[1;33m.\u001b[0m\u001b[0mswapaxes\u001b[0m\u001b[1;33m(\u001b[0m\u001b[0mp\u001b[0m\u001b[1;33m,\u001b[0m\u001b[1;36m0\u001b[0m\u001b[1;33m,\u001b[0m\u001b[1;36m1\u001b[0m\u001b[1;33m)\u001b[0m \u001b[1;32mfor\u001b[0m \u001b[0mp\u001b[0m \u001b[1;32min\u001b[0m \u001b[0mperms\u001b[0m\u001b[1;33m]\u001b[0m\u001b[1;33m)\u001b[0m\u001b[1;33m\u001b[0m\u001b[1;33m\u001b[0m\u001b[0m\n\u001b[0;32m      3\u001b[0m \u001b[0mprint\u001b[0m\u001b[1;33m(\u001b[0m\u001b[0mfull_shuffled_perms\u001b[0m\u001b[1;33m.\u001b[0m\u001b[0mshape\u001b[0m\u001b[1;33m)\u001b[0m\u001b[1;33m\u001b[0m\u001b[1;33m\u001b[0m\u001b[0m\n",
      "\u001b[1;31mNameError\u001b[0m: name 'get_permutations' is not defined"
     ]
    }
   ],
   "source": [
    "perms=get_permutations(dg.fill_out_recipe(matrix,fill_to=8),fill_to=8)\n",
    "full_shuffled_perms=np.array([np.swapaxes(p,0,1) for p in perms])\n",
    "print(full_shuffled_perms.shape)"
   ]
  },
  {
   "cell_type": "markdown",
   "metadata": {},
   "source": [
    "## Getting useable recipes ##"
   ]
  },
  {
   "cell_type": "code",
   "execution_count": 7,
   "metadata": {},
   "outputs": [
    {
     "name": "stdout",
     "output_type": "stream",
     "text": [
      "{'bourbon': [2.0, 'oz'], 'sugar': [1, 'cube'], 'angostura': [2.0, 'dashes']}\n",
      "178\n"
     ]
    }
   ],
   "source": [
    "drink_db=drink_index(interactive=False)\n",
    "search_terms=drink_db.parse_search(\"$vector\")\n",
    "results=drink_db.subset_search(search_terms)\n",
    "print(results[0].ingredients)\n",
    "print(len(results))"
   ]
  },
  {
   "cell_type": "markdown",
   "metadata": {},
   "source": [
    "## Getting information about recipes and ingredients ##"
   ]
  },
  {
   "cell_type": "code",
   "execution_count": 89,
   "metadata": {},
   "outputs": [],
   "source": [
    "ih=ingredient_handler()\n",
    "\n",
    "def get_closest_recipe(recipe,recipe_list,ingredient_handler) :\n",
    "\tdist = np.linalg.norm(ingredient_handler.get_recipe_vector(recipe)-ingredient_handler.get_recipe_vector(recipe_list[0]))\n",
    "\tclosest=recipe_list[0]\n",
    "\tfor comp_recipe in recipe_list[1:] :\n",
    "\t\tif comp_recipe.id != recipe.id :\n",
    "\t\t\tnew_dist = np.linalg.norm(ingredient_handler.get_recipe_vector(recipe)-ingredient_handler.get_recipe_vector(comp_recipe))\n",
    "\t\t\tif new_dist<dist :\n",
    "\t\t\t\tdist=new_dist\n",
    "\t\t\t\tclosest=comp_recipe\n",
    "\treturn closest,dist\n",
    "\n",
    "def sort_by_closeness(recipe_list, ingredient_handler) :\n",
    "    new_list=[recipe_list.pop()]\n",
    "    dist_list=[]\n",
    "    while len(recipe_list)>0 :\n",
    "        current_recipe=new_list[-1]\n",
    "        closest,dist=get_closest_recipe(current_recipe,recipe_list,ingredient_handler)\n",
    "        new_list.append(recipe_list.pop(recipe_list.index(closest)))\n",
    "        dist_list.append(dist)\n",
    "    return new_list,dist_list\n",
    "\n",
    "\n",
    "results,dists=sort_by_closeness(results,ih)"
   ]
  },
  {
   "cell_type": "code",
   "execution_count": 90,
   "metadata": {
    "tags": []
   },
   "outputs": [
    {
     "name": "stdout",
     "output_type": "stream",
     "text": [
      "\u001b[1m\u001b[94mcorpse revivor #2\u001b[0m\n",
      " codex\n",
      " \u001b[96mpage 188\n",
      " shake\u001b[0m\n",
      " \u001b[93m0.75 oz lillet blanc\u001b[0m\n",
      " \u001b[93m0.75 oz lemon juice\u001b[0m\n",
      " \u001b[93m0.75 oz gin\u001b[0m\n",
      " \u001b[93m0.75 oz cointreau\u001b[0m\n",
      " \u001b[93m2.0 dashes absinthe\u001b[0m\n",
      "\n",
      "0.015374473559114149\n",
      "\u001b[1m\u001b[94mcorpse reviver no2\u001b[0m\n",
      " internet\n",
      " \u001b[96mpage \n",
      " shaken\u001b[0m\n",
      " \u001b[93m3.0 cl lillet\u001b[0m\n",
      " \u001b[93m3.0 cl lemon juice\u001b[0m\n",
      " \u001b[93m3.0 cl gin\u001b[0m\n",
      " \u001b[93m3.0 cl cointreau\u001b[0m\n",
      " \u001b[93m1.0 dash absinthe\u001b[0m\n",
      "\n",
      "\u001b[1m\u001b[94mmartini\u001b[0m\n",
      " codex\n",
      " \u001b[96mpage 77\n",
      " stir and strain\u001b[0m\n",
      " rated 3.00/5\n",
      " \u001b[93m2.0 oz gin\u001b[0m\n",
      " \u001b[93m1.0 oz dry vermouth\u001b[0m\n",
      "\n",
      "0.018063388462946577\n",
      "\u001b[1m\u001b[94mideal gin martini\u001b[0m\n",
      " codex\n",
      " \u001b[96mpage 62\n",
      " stir and strain\u001b[0m\n",
      " \u001b[93m2.0 oz gin\u001b[0m\n",
      " \u001b[93m1.0 oz dry vermouth\u001b[0m\n",
      " \u001b[93m1.0 dash orange bitters\u001b[0m\n",
      "\n",
      "\u001b[1m\u001b[94mgin sour\u001b[0m\n",
      " diffords guide\n",
      " \u001b[96mpage \n",
      " shaken\u001b[0m\n",
      " \u001b[93m2.0 oz gin\u001b[0m\n",
      " \u001b[93m1.0 oz lemon juice\u001b[0m\n",
      " \u001b[93m0.5 oz simple syrup\u001b[0m\n",
      " \u001b[93m3.0 dashes angostura\u001b[0m\n",
      "\n",
      "0.02956297773621396\n",
      "\u001b[1m\u001b[94mfitzgerald\u001b[0m\n",
      " diffords guide\n",
      " \u001b[96mpage \n",
      " shaken\u001b[0m\n",
      " \u001b[93m1.66 oz gin\u001b[0m\n",
      " \u001b[93m25.0 ml lemon juice\u001b[0m\n",
      " \u001b[93m0.5 oz simple syrup\u001b[0m\n",
      " \u001b[93m2.0 dashes angostura\u001b[0m\n",
      "\n"
     ]
    }
   ],
   "source": [
    "sorted_dists=sorted(dists)\n",
    "# print(sorted_dists)\n",
    "max_num=3\n",
    "counter=0\n",
    "for d in sorted_dists[3:]:\n",
    "    i=dists.index(d)\n",
    "    prev=results[i]\n",
    "    dist_to=results[i+1]\n",
    "    if prev.name != dist_to.name :\n",
    "        print(prev)\n",
    "        print(d)\n",
    "        print(dist_to)\n",
    "        counter+=1\n",
    "    if counter>=max_num :\n",
    "        break"
   ]
  },
  {
   "cell_type": "markdown",
   "metadata": {},
   "source": [
    "These results show that a distance of about 0.06 is the minimum required difference between different drinks that are not just variations on eachother."
   ]
  },
  {
   "cell_type": "code",
   "execution_count": 201,
   "metadata": {
    "tags": []
   },
   "outputs": [
    {
     "name": "stdout",
     "output_type": "stream",
     "text": [
      "mint\n",
      "2.315167380558045\n",
      "orgeat syrup\n",
      "\n",
      "orgeat syrup\n",
      "2.315167380558045\n",
      "mint\n",
      "\n",
      "lemon\n",
      "2.32379000772445\n",
      "orgeat syrup\n",
      "\n",
      "orgeat syrup\n",
      "2.32379000772445\n",
      "lemon\n",
      "\n",
      "peychauds bitters\n",
      "2.5059928172283334\n",
      "orgeat syrup\n",
      "\n",
      "46\n"
     ]
    }
   ],
   "source": [
    "distances=[]\n",
    "ingredients=ih.ingredients\n",
    "for ingredient in ingredients :\n",
    "    for to_ingredient in ingredients :\n",
    "        if ingredient is not to_ingredient :\n",
    "#         if not bool(ingredient.names & to_ingredient.names) :\n",
    "            dist = np.linalg.norm(ingredient.get_flavors()-to_ingredient.get_flavors())\n",
    "            distances.append((ingredient,to_ingredient,dist))\n",
    "            \n",
    "            \n",
    "combined_list=[(x,y,z) for x,y,z in sorted(distances, key=lambda pair: pair[2],reverse=False)]\n",
    "# print(combined_list)\n",
    "def print_info(to_print) :\n",
    "    for one,two,dist in to_print :\n",
    "        print(list(one.names)[0])\n",
    "        print(dist)\n",
    "        print(list(two.names)[0]) \n",
    "        print()\n",
    "\n",
    "\n",
    "print_info(combined_list[-6:-1])\n",
    "print(len(ingredients))"
   ]
  },
  {
   "cell_type": "markdown",
   "metadata": {},
   "source": [
    "Distances between ingredients range from ~0.6 to 2.5, however .9 seems to be a good cutoff for actually being similar"
   ]
  },
  {
   "cell_type": "markdown",
   "metadata": {},
   "source": [
    "## generate recipe matrixes for all recipes and make dataloaders ##"
   ]
  },
  {
   "cell_type": "code",
   "execution_count": 92,
   "metadata": {},
   "outputs": [],
   "source": [
    "def get_recipe_matrix(recipe,fill=False) :\n",
    "    volumes,recipe_vector=ih.get_recipe_vectors(recipe,get_volumes=True)\n",
    "    \n",
    "    matrix=np.zeros((len(recipe_vector),31))\n",
    "    for i in range(len(volumes)) :\n",
    "        volume=[volumes[i]]\n",
    "        vector=recipe_vector[i].get_flavors()\n",
    "        row=np.insert(vector, 0, volume, axis=0)\n",
    "#         print(len(row))\n",
    "#         matrix[i]=[np.append(matrix,row)]\n",
    "        matrix[i]=row\n",
    "    \n",
    "#     print(matrix)\n",
    "#     print(matrix.shape)\n",
    "    if fill :\n",
    "        matrix=dg.fill_out_recipe(matrix)\n",
    "    return matrix"
   ]
  },
  {
   "cell_type": "code",
   "execution_count": 93,
   "metadata": {},
   "outputs": [
    {
     "name": "stdout",
     "output_type": "stream",
     "text": [
      "(120, 1, 9, 31)\n"
     ]
    },
    {
     "data": {
      "text/plain": [
       "(120, 9, 1, 31)"
      ]
     },
     "execution_count": 93,
     "metadata": {},
     "output_type": "execute_result"
    }
   ],
   "source": [
    "matrix=get_recipe_matrix(results[0],False)\n",
    "perms=get_permutations(dg.fill_out_recipe(matrix),fill_to=8)\n",
    "print(perms.shape)\n",
    "swapped=np.array([np.swapaxes(p,0,1) for p in perms])\n",
    "swapped.shape"
   ]
  },
  {
   "cell_type": "code",
   "execution_count": 100,
   "metadata": {},
   "outputs": [
    {
     "name": "stdout",
     "output_type": "stream",
     "text": [
      "unaugmented (176, 1, 9, 31)\n",
      "shuffle only ingredients (3371, 1, 9, 31)\n",
      "shuffle in whitespace (0,)\n",
      "1d\n",
      "unaugmented (0,)\n",
      "shuffle only ingredients (0,)\n",
      "shuffle in whitespace (0,)\n",
      "summed recipes (176, 1, 31)\n"
     ]
    },
    {
     "data": {
      "image/png": "[encoded data removed]",
      "text/plain": [
       "<Figure size 432x288 with 1 Axes>"
      ]
     },
     "metadata": {},
     "output_type": "display_data"
    },
    {
     "data": {
      "image/png": "[encoded data removed]",
      "text/plain": [
       "<Figure size 432x288 with 1 Axes>"
      ]
     },
     "metadata": {},
     "output_type": "display_data"
    },
    {
     "data": {
      "image/png": "[encoded data removed]",
      "text/plain": [
       "<Figure size 432x288 with 1 Axes>"
      ]
     },
     "metadata": {},
     "output_type": "display_data"
    },
    {
     "data": {
      "image/png": "[encoded data removed]",
      "text/plain": [
       "<Figure size 432x288 with 1 Axes>"
      ]
     },
     "metadata": {},
     "output_type": "display_data"
    },
    {
     "data": {
      "image/png": "[encoded data removed]",
      "text/plain": [
       "<Figure size 432x288 with 1 Axes>"
      ]
     },
     "metadata": {},
     "output_type": "display_data"
    },
    {
     "data": {
      "image/png": "[encoded data removed]",
      "text/plain": [
       "<Figure size 432x288 with 1 Axes>"
      ]
     },
     "metadata": {},
     "output_type": "display_data"
    },
    {
     "data": {
      "image/png": "[encoded data removed]",
      "text/plain": [
       "<Figure size 432x288 with 1 Axes>"
      ]
     },
     "metadata": {},
     "output_type": "display_data"
    },
    {
     "data": {
      "image/png": "[encoded data removed]",
      "text/plain": [
       "<Figure size 432x288 with 1 Axes>"
      ]
     },
     "metadata": {},
     "output_type": "display_data"
    },
    {
     "data": {
      "image/png": "[encoded data removed]",
      "text/plain": [
       "<Figure size 432x288 with 1 Axes>"
      ]
     },
     "metadata": {},
     "output_type": "display_data"
    },
    {
     "data": {
      "image/png": "[encoded data removed]",
      "text/plain": [
       "<Figure size 432x288 with 1 Axes>"
      ]
     },
     "metadata": {},
     "output_type": "display_data"
    }
   ],
   "source": [
    "recipe_name_matrices=[]\n",
    "\n",
    "unaugmented_matrices=[]\n",
    "shuffled_matrices=[]\n",
    "full_shuffled_matrices=[]\n",
    "\n",
    "unaugmented_matrices1d=[]\n",
    "shuffled_matrices1d=[]\n",
    "full_shuffled_matrices1d=[]\n",
    "\n",
    "recipe_matrices=[]\n",
    "\n",
    "\n",
    "for recipe in results :\n",
    "    matrix=get_recipe_matrix(recipe,False)\n",
    "    recipe_name_matrices.append((recipe,dg.fill_out_recipe(matrix)))\n",
    "    \n",
    "    #The different datasets\n",
    "    #2d\n",
    "    #unaugmented\n",
    "    unaugmented_matrices.append(np.array([dg.fill_out_recipe(matrix)]))\n",
    "    \n",
    "    #shuffle only ingredients\n",
    "    shuffled_matrices.extend(get_permutations(matrix))\n",
    "    \n",
    "    #shuffle in whitespace\n",
    "#     full_shuffled_matrices.extend(get_permutations(dg.fill_out_recipe(matrix)))\n",
    "    \n",
    "#     #1d\n",
    "#     #unaugmented\n",
    "#     un_augmented=np.array([dg.fill_out_recipe(matrix,8)])\n",
    "# #     print(un_augmented.shape)\n",
    "#     unaugmented_matrices1d.append(np.swapaxes(un_augmented,0,1))\n",
    "    \n",
    "#     #shuffle only ingredients\n",
    "#     perms=get_permutations(matrix,8)\n",
    "# #     print(perms.shape)\n",
    "#     shuffled_perms=np.array([np.swapaxes(p,0,1) for p in perms])\n",
    "# #     print(shuffled_perms.shape)\n",
    "    \n",
    "#     shuffled_matrices1d.extend(shuffled_perms)\n",
    "    \n",
    "#     #shuffle in whitespace\n",
    "#     perms=get_permutations(dg.fill_out_recipe(matrix,fill_to=8),fill_to=8)\n",
    "#     full_shuffled_perms=np.array([np.swapaxes(p,0,1) for p in perms])\n",
    "#     full_shuffled_matrices1d.extend(full_shuffled_perms)\n",
    "    \n",
    "    \n",
    "    \n",
    "    #summed recipes\n",
    "    recipe_matrices.append(dg.convert_to_recipe(matrix))\n",
    "    \n",
    "\n",
    "print(\"unaugmented\",np.array(unaugmented_matrices).shape)\n",
    "print(\"shuffle only ingredients\",np.array(shuffled_matrices).shape)\n",
    "print(\"shuffle in whitespace\",np.array(full_shuffled_matrices).shape)\n",
    "print('1d')\n",
    "print(\"unaugmented\",np.array(unaugmented_matrices1d).shape)\n",
    "print(\"shuffle only ingredients\",np.array(shuffled_matrices1d).shape)\n",
    "print(\"shuffle in whitespace\",np.array(full_shuffled_matrices1d).shape)\n",
    "print(\"summed recipes\",np.array(recipe_matrices).shape)\n",
    "\n",
    "for i in range(10) :\n",
    "    print_data(unaugmented_matrices[i])\n",
    "\n"
   ]
  },
  {
   "cell_type": "code",
   "execution_count": 74,
   "metadata": {},
   "outputs": [
    {
     "name": "stdout",
     "output_type": "stream",
     "text": [
      "unaugmented (176, 1, 9, 31)\n",
      "shuffle only ingredients (176, 1, 9, 31)\n",
      "shuffle in whitespace (0,)\n",
      "1d\n",
      "unaugmented (0,)\n",
      "shuffle only ingredients (0,)\n",
      "shuffle in whitespace (0,)\n",
      "summed recipes (176, 1, 31)\n"
     ]
    }
   ],
   "source": [
    "print(\"unaugmented\",np.array(unaugmented_matrices).shape)\n",
    "print(\"shuffle only ingredients\",np.array(shuffled_matrices).shape)\n",
    "print(\"shuffle in whitespace\",np.array(full_shuffled_matrices).shape)\n",
    "print('1d')\n",
    "print(\"unaugmented\",np.array(unaugmented_matrices1d).shape)\n",
    "print(\"shuffle only ingredients\",np.array(shuffled_matrices1d).shape)\n",
    "print(\"shuffle in whitespace\",np.array(full_shuffled_matrices1d).shape)\n",
    "print(\"summed recipes\",np.array(recipe_matrices).shape)"
   ]
  },
  {
   "cell_type": "code",
   "execution_count": 75,
   "metadata": {},
   "outputs": [
    {
     "name": "stdout",
     "output_type": "stream",
     "text": [
      "2d\n",
      "sorted by volume\n",
      "randomized order, but followed by empty\n",
      "torch.Size([32, 1, 9, 31])\n",
      "torch.Size([32, 1, 31])\n"
     ]
    },
    {
     "data": {
      "image/png": "[encoded data removed]",
      "text/plain": [
       "<Figure size 432x288 with 1 Axes>"
      ]
     },
     "metadata": {},
     "output_type": "display_data"
    }
   ],
   "source": [
    "print(\"2d\")\n",
    "\n",
    "print(\"sorted by volume\")\n",
    "unaugmented_dataloader = DataLoader(unaugmented_matrices, batch_size=32, shuffle=True)\n",
    "\n",
    "# data_iter=iter(unaugmented_dataloader)\n",
    "# for i in range(180) :\n",
    "#     try:\n",
    "#         real_batch=next(data_iter)\n",
    "#     except StopIteration:\n",
    "#         data_iter=iter(unaugmented_dataloader)\n",
    "#         real_batch=next(data_iter)\n",
    "        \n",
    "#     real_batch=next(data_iter)\n",
    "#     print(real_batch.shape)\n",
    "\n",
    "\n",
    "\n",
    "# print_data(real_batch[0])\n",
    "\n",
    "print(\"randomized order, but followed by empty\")\n",
    "\n",
    "shuffled_dataloader = DataLoader(shuffled_matrices, batch_size=32, shuffle=True)\n",
    "real_batch=next(iter(shuffled_dataloader))\n",
    "print(real_batch.shape)\n",
    "\n",
    "\n",
    "# print_data(real_batch[0])\n",
    "\n",
    "# print(\"randomized order with shuffled empty\")\n",
    "\n",
    "# full_shuffle_dataloader = DataLoader(full_shuffled_matrices, batch_size=256, shuffle=True)\n",
    "# real_batch=next(iter(full_shuffle_dataloader))\n",
    "# print(real_batch.shape)\n",
    "\n",
    "# print_data(real_batch[0])\n",
    "\n",
    "# print(\"1d\")\n",
    "# print(\"sorted by volume\")\n",
    "# unaugmented_dataloader1d = DataLoader(unaugmented_matrices1d, batch_size=32, shuffle=True)\n",
    "# real_batch=next(iter(unaugmented_dataloader1d))\n",
    "# print(real_batch.shape)\n",
    "\n",
    "# print_data(real_batch[0])\n",
    "\n",
    "# print(\"randomized order, but followed by empty\")\n",
    "\n",
    "# shuffled_dataloader1d = DataLoader(shuffled_matrices1d, batch_size=128, shuffle=True)\n",
    "# real_batch=next(iter(shuffled_dataloader1d))\n",
    "# print(real_batch.shape)\n",
    "\n",
    "# print_data(real_batch[0])\n",
    "\n",
    "# print(\"randomized order with shuffled empty\")\n",
    "\n",
    "# full_shuffle_dataloader1d = DataLoader(full_shuffled_matrices1d, batch_size=256, shuffle=True)\n",
    "# real_batch=next(iter(full_shuffle_dataloader1d))\n",
    "# print(real_batch.shape)\n",
    "# print_data(real_batch[0])\n",
    "\n",
    "\n",
    "recipe_dataloader = DataLoader(recipe_matrices, batch_size=32, shuffle=True)\n",
    "real_batch=next(iter(recipe_dataloader))\n",
    "print(real_batch.shape)\n",
    "print_data(real_batch[0])\n"
   ]
  },
  {
   "cell_type": "markdown",
   "metadata": {},
   "source": [
    "## Now for the GAN ##"
   ]
  },
  {
   "cell_type": "markdown",
   "metadata": {},
   "source": [
    "There are a couple ways I can go about this\n",
    "## Generator ##\n",
    "At the moment I can think of two methods to have the generator make an ingredient.\n",
    "\n",
    "- The first of these is going from 1,100,1,1 to 1,1,9,31. I only need 8, however I am unable to acheive that with a consistant kernal.\n",
    "\n",
    "- The second is to generate a 1d output with 8 channels, one per ingredient.\n",
    "\n",
    "## Processing ##\n",
    "Theres a couple ways to go about this.\n",
    "\n",
    "- First and foremost; doing nothing. Just passing the raw data along. This is 2 possible outputs for the two generator methods.\n",
    "\n",
    "- Second: Find the closest ingredient to the row and replace it with the appropriate values. I would only do this if the row is close enough to an ingredient, otherwise it would be made empty\n",
    "   \n",
    "Instead of passing each of the above along:\n",
    "- Sum each matrix to be a 1,1,30,1 flavor vector, and use a dense NN to discriminate. \n",
    "    This has the benifit of being a more comprehensize flavor profile, without losing ingredient data.\n",
    "    \n",
    "## Descriminator ##\n",
    "These options are basically limited by the processing\n",
    "- 1,1,9,31\n",
    "- 1,1,1,31\n",
    "- or an ANN discriminator\n",
    "\n",
    "HOWEVER: There are also data augmentation options. Though these only apply to the discriminator, they affect how the code would be generated.\n",
    "\n",
    "### Augmentations ###\n",
    "- Unshuffled, most to least volume\n",
    "    - this is filled out with 0s for the 2d recipes\n",
    "- shuffled\n",
    "This generates a good number of augmentations, and may help avoid mode collapse.\n",
    "    - For 2d recipes :\n",
    "        - shuffle only the ingredients, fill bottom with blank space\n",
    "        - shuffle blank space between recipes\n",
    "        I truly have no idea if this will produce better or worse results, but I think its very likel it will require more training\n",
    "    - for 1d recipes there is only shuffling or not \n",
    "    \n",
    "\n",
    "\n",
    "# Conclusions #\n",
    "It only makes sense to train them all.\n",
    "\n",
    "- So there are 2d and 1d outputs (neither of which are truly that) and for each :\n",
    "- replace, and not replace :\n",
    "- and for each of those, sum and not sum\n",
    "- and for all not sum, shuffle, not shuffle, and full shuffle\n",
    "\n",
    "So a total of 14 combinations, which is perfectly within reason. \n",
    "\n"
   ]
  },
  {
   "cell_type": "code",
   "execution_count": 42,
   "metadata": {},
   "outputs": [
    {
     "name": "stdout",
     "output_type": "stream",
     "text": [
      "2d\treplace vectors\t\tsum\t\t\n",
      "\n",
      "2d\treplace vectors\t\tmatrix\t\tpartial shuffle\n",
      "\n",
      "2d\treplace vectors\t\tmatrix\t\tfull shuffle\n",
      "\n",
      "2d\treplace vectors\t\tmatrix\t\tno shuffle\n",
      "\n",
      "2d\tkeep vectors\t\tsum\t\t\n",
      "\n",
      "2d\tkeep vectors\t\tmatrix\t\tpartial shuffle\n",
      "\n",
      "2d\tkeep vectors\t\tmatrix\t\tfull shuffle\n",
      "\n",
      "2d\tkeep vectors\t\tmatrix\t\tno shuffle\n",
      "\n",
      "1d\treplace vectors\t\tsum\t\t\n",
      "\n",
      "1d\treplace vectors\t\tmatrix\t\tfull shuffle\n",
      "\n",
      "1d\treplace vectors\t\tmatrix\t\tno shuffle\n",
      "\n",
      "1d\tkeep vectors\t\tsum\t\t\n",
      "\n",
      "1d\tkeep vectors\t\tmatrix\t\tfull shuffle\n",
      "\n",
      "1d\tkeep vectors\t\tmatrix\t\tno shuffle\n",
      "\n",
      "14 permutations\n"
     ]
    }
   ],
   "source": [
    "shape_types=[\"2d\",\"1d\"]\n",
    "to_replace=[True,False]\n",
    "to_sum=[True,False]\n",
    "to_shuffle=[True,False]\n",
    "shuffle_2d=[\"partial shuffle\",\"full shuffle\"]\n",
    "\n",
    "permutations=[]\n",
    "\n",
    "for shape in shape_types :\n",
    "    for replace in to_replace :\n",
    "        for sum_val in to_sum :\n",
    "            r=\"keep vectors\"\n",
    "            if replace : r=\"replace vectors\"\n",
    "            s=\"matrix\"\n",
    "            if sum_val : s=\"sum\"\n",
    "            \n",
    "            a=\"\" #augment\n",
    "            if not sum_val : #if the data is not being summed into a single vector\n",
    "                for shuffle in to_shuffle :\n",
    "                    if shuffle : \n",
    "                        if shape==\"1d\" :\n",
    "                            a=\"full shuffle\"\n",
    "                            description=\"{}\\t{}\\t\\t{}\\t\\t{}\\n\".format(shape,r,s,a)\n",
    "#                             print(description)\n",
    "                            permutations.append(description)\n",
    "                        else :\n",
    "                            for shuffle_val in shuffle_2d :\n",
    "                                a=shuffle_val\n",
    "                                description=\"{}\\t{}\\t\\t{}\\t\\t{}\\n\".format(shape,r,s,a)\n",
    "#                                 name=\"{}\\t{}\\t\\t{}\\t{}\\n\".format(shape,r,s,a)\n",
    "#                                 print(description)\n",
    "                                permutations.append(description)\n",
    "                                \n",
    "                    else :\n",
    "                        a=\"no shuffle\"\n",
    "                        description=\"{}\\t{}\\t\\t{}\\t\\t{}\\n\".format(shape,r,s,a)\n",
    "#                         print(description)\n",
    "                        permutations.append(description)\n",
    "                        \n",
    "            else :\n",
    "                description=\"{}\\t{}\\t\\t{}\\t\\t{}\\n\".format(shape,r,s,a)\n",
    "#                 print(description)\n",
    "                permutations.append(description)\n",
    "                    \n",
    "            \n",
    "for name in permutations :\n",
    "    print(name)\n",
    "print(len(permutations),\"permutations\")"
   ]
  },
  {
   "cell_type": "code",
   "execution_count": 14,
   "metadata": {
    "tags": []
   },
   "outputs": [],
   "source": [
    "def check_for_settings(goal_dimention,num_layers,start_dimention) :\n",
    "    '''This function does the math to see if a set kernal settings can generate the wanted output after a certain number of layers'''\n",
    "    kernal_range=[2,30]\n",
    "    padding_range=[0,10]\n",
    "    stride_range=[1,10]\n",
    "    out_padding_range=[0,10]\n",
    "\n",
    "    for kernal in range(kernal_range[0],kernal_range[1]) :\n",
    "        for padding in range(padding_range[0],padding_range[1]) :\n",
    "            for stride in range(stride_range[0],stride_range[1]) :\n",
    "                for out_padding in range(out_padding_range[0],out_padding_range[1]) :\n",
    "                    last_height=start_dimention\n",
    "                    for i in range(num_layers) :\n",
    "                        last_height=(last_height-1)*stride-2*padding+(kernal-1)+out_padding+1\n",
    "                    if last_height==goal_dimention:#or last_height==29 :\n",
    "                        print(\"kernal\",kernal)\n",
    "                        print(\"padding\",padding)\n",
    "                        print(\"stride\",stride)\n",
    "                        print(\"out_padding\",out_padding)\n",
    "#                         print(\"i\",i+1)\n",
    "                        print()\n",
    "\n",
    "check_for_settings(30,4,1)    \n",
    "    \n",
    "# print(last_height)"
   ]
  },
  {
   "cell_type": "markdown",
   "metadata": {},
   "source": [
    "# Start assembling network #\n",
    "Build the generators and discriminators"
   ]
  },
  {
   "cell_type": "code",
   "execution_count": 16,
   "metadata": {},
   "outputs": [],
   "source": [
    "# kernal_shape=(3,7)\n",
    "# stride=(1,2)\n",
    "# padding=(0,2)\n",
    "# output_padding=(0,0)\n",
    "\n",
    "kernal_shape2d=(3,3)\n",
    "kernal_shape1d=(1,3)\n",
    "\n",
    "stride=(1,2)\n",
    "padding=(0,0)\n",
    "output_padding=(0,0)\n",
    "\n",
    "class Generator2D(nn.Module):\n",
    "    def __init__(self):\n",
    "        super(Generator2D, self).__init__()\n",
    "        self.main = nn.Sequential(\n",
    "            nn.ConvTranspose2d(100,128, kernal_shape2d, stride, padding, output_padding=output_padding,bias=False),\n",
    "            nn.BatchNorm2d(128),\n",
    "            nn.ReLU(True),\n",
    "            nn.ConvTranspose2d(128,64, kernal_shape2d, stride, padding,  output_padding=output_padding,bias=False),\n",
    "            nn.BatchNorm2d(64),\n",
    "            nn.ReLU(True),\n",
    "            nn.ConvTranspose2d(64,32, kernal_shape2d, stride, padding,  output_padding=output_padding,bias=False),\n",
    "            nn.BatchNorm2d(32),\n",
    "            nn.ReLU(True),\n",
    "            nn.ConvTranspose2d(32,1, kernal_shape2d, stride, padding,  output_padding=output_padding,bias=False),\n",
    "            nn.Sigmoid()\n",
    "        )\n",
    "\n",
    "    def forward(self, input):\n",
    "        return self.main(input)\n",
    "    \n",
    "\n",
    "class Discriminator2D(nn.Module):\n",
    "    def __init__(self):\n",
    "        super(Discriminator2D, self).__init__()\n",
    "        self.main = nn.Sequential(\n",
    "            nn.Conv2d(1,32, kernal_shape2d, stride, padding, bias=False),\n",
    "            nn.LeakyReLU(0.2, inplace=True),\n",
    "            nn.Conv2d(32,64, kernal_shape2d, stride, padding, bias=False),\n",
    "            nn.BatchNorm2d(64),\n",
    "            nn.LeakyReLU(0.2, inplace=True),\n",
    "            nn.Conv2d(64,128, kernal_shape2d, stride, padding, bias=False),\n",
    "            nn.BatchNorm2d(128),\n",
    "            nn.LeakyReLU(0.2, inplace=True),\n",
    "            nn.Conv2d(128,1, kernal_shape2d, stride, padding, bias=False),\n",
    "            nn.Sigmoid()\n",
    "        )\n",
    "\n",
    "    def forward(self, input):\n",
    "        return self.main(input)\n",
    "    \n",
    "    \n",
    "\n",
    "class Generator1D(nn.Module):\n",
    "    def __init__(self):\n",
    "        super(Generator1D, self).__init__()\n",
    "        self.main = nn.Sequential(\n",
    "            nn.ConvTranspose2d(100,128, kernal_shape1d, stride, padding, output_padding=output_padding,bias=False),\n",
    "            nn.BatchNorm2d(128),\n",
    "            nn.ReLU(True),\n",
    "            nn.ConvTranspose2d(128,64, kernal_shape1d, stride, padding,  output_padding=output_padding,bias=False),\n",
    "            nn.BatchNorm2d(64),\n",
    "            nn.ReLU(True),\n",
    "            nn.ConvTranspose2d(64,32, kernal_shape1d, stride, padding,  output_padding=output_padding,bias=False),\n",
    "            nn.BatchNorm2d(32),\n",
    "            nn.ReLU(True),\n",
    "            nn.ConvTranspose2d(32,8, kernal_shape1d, stride, padding,  output_padding=output_padding,bias=False),\n",
    "            nn.Sigmoid()\n",
    "        )\n",
    "\n",
    "    def forward(self, input):\n",
    "        return self.main(input)\n",
    "    \n",
    "\n",
    "class Discriminator1D(nn.Module):\n",
    "    def __init__(self):\n",
    "        super(Discriminator1D, self).__init__()\n",
    "        self.main = nn.Sequential(\n",
    "            nn.Conv2d(8,32, kernal_shape1d, stride, padding, bias=False),\n",
    "            nn.LeakyReLU(0.2, inplace=True),\n",
    "            nn.Conv2d(32,64, kernal_shape1d, stride, padding, bias=False),\n",
    "            nn.BatchNorm2d(64),\n",
    "            nn.LeakyReLU(0.2, inplace=True),\n",
    "            nn.Conv2d(64,128, kernal_shape1d, stride, padding, bias=False),\n",
    "            nn.BatchNorm2d(128),\n",
    "            nn.LeakyReLU(0.2, inplace=True),\n",
    "            nn.Conv2d(128,1, kernal_shape1d, stride, padding, bias=False),\n",
    "            nn.Sigmoid()\n",
    "        )\n",
    "\n",
    "    def forward(self, input):\n",
    "        return self.main(input)\n",
    "    \n",
    "    \n",
    "#Hidden neurons chosen to be <2x input\n",
    "class DiscriminatorLinear(nn.Module):\n",
    "    def __init__(self):\n",
    "        super(DiscriminatorLinear, self).__init__()\n",
    "        self.main = nn.Sequential(\n",
    "            nn.Linear(31,32),\n",
    "            nn.Linear(32,16),\n",
    "            nn.Linear(16,1),\n",
    "            nn.Sigmoid()\n",
    "        )\n",
    "\n",
    "    def forward(self, input):\n",
    "        return self.main(input)"
   ]
  },
  {
   "cell_type": "markdown",
   "metadata": {},
   "source": [
    "Helper function and device selection"
   ]
  },
  {
   "cell_type": "code",
   "execution_count": 17,
   "metadata": {},
   "outputs": [
    {
     "name": "stdout",
     "output_type": "stream",
     "text": [
      "cuda\n"
     ]
    }
   ],
   "source": [
    "#custom weights initialization\n",
    "#taken from a pytorch tutorial\n",
    "def weights_init(m):\n",
    "    classname = m.__class__.__name__\n",
    "    if classname.find('Conv') != -1:\n",
    "        nn.init.normal_(m.weight.data, 0.0, 0.02)\n",
    "    elif classname.find('BatchNorm') != -1:\n",
    "        nn.init.normal_(m.weight.data, 1.0, 0.02)\n",
    "        nn.init.constant_(m.bias.data, 0)\n",
    "\n",
    "#Select the available device\n",
    "if torch.cuda.is_available() :\n",
    "    device=torch.device(\"cuda\")\n",
    "else :device=torch.device(\"cpu\")\n",
    "    \n",
    "print(device)"
   ]
  },
  {
   "cell_type": "markdown",
   "metadata": {},
   "source": [
    "Assmebling GAN permutations"
   ]
  },
  {
   "cell_type": "code",
   "execution_count": 18,
   "metadata": {},
   "outputs": [],
   "source": [
    "def get_nearest_ingredient(row,cutoff=0.7,get_label=False) :\n",
    "    '''for converting generated arrays to the nearest ingredient, if they are close enough'''\n",
    "    percent=row[0]\n",
    "    pseudo_ingredient=(1/percent)*row[1:]\n",
    "    lowest_dist=50\n",
    "    nearest=None\n",
    "    for ingredient in ih.ingredients :\n",
    "        dist = np.linalg.norm(pseudo_ingredient-ingredient.get_flavors())\n",
    "#         print(dist)\n",
    "        if dist<lowest_dist :\n",
    "            lowest_dist=dist\n",
    "            nearest=ingredient\n",
    "    \n",
    "\n",
    "    if nearest is None or lowest_dist>cutoff :\n",
    "        if get_label : \n",
    "            return np.zeros([31]),\"\"\n",
    "        else :\n",
    "            return np.zeros([31])\n",
    "    else :\n",
    "        \n",
    "        scaled_ingredient=[percent]\n",
    "        scaled_ingredient.extend(percent*np.copy(nearest.get_flavors()))\n",
    "#         print(scaled_ingredient)\n",
    "        if get_label :\n",
    "            return np.array(scaled_ingredient), list(nearest.get_names())[0]\n",
    "        else :\n",
    "            return np.array(scaled_ingredient)\n",
    "\n",
    "\n",
    "\n",
    "\n",
    "def replace_rows(batch,**kwargs) :\n",
    "#     batch=batch.detach().numpy()\n",
    "    dummy_batch=batch.detach().cpu().numpy() #this saves too many copies between memories\n",
    "    \n",
    "    for ingredient_matrix,dummy_matrix in zip(batch,dummy_batch) :\n",
    "            \n",
    "        for i in range(ingredient_matrix.size(1)) :\n",
    "            \n",
    "            row=dummy_matrix[0][i]\n",
    "            new_row=torch.from_numpy(get_nearest_ingredient(row,**kwargs)).float()\n",
    "            ingredient_matrix.data[0][i]=new_row\n",
    "            \n",
    "    return batch\n",
    "    \n",
    "#Sums a matrix into a single 1d array\n",
    "def convert_tensor_to_recipe(batch) :\n",
    "\n",
    "    if batch.size(1)==1 :\n",
    "         return torch.sum(batch, dim=2, keepdim=True)\n",
    "    elif batch.size(1)==8:\n",
    "        return torch.sum(batch, dim=1, keepdim=True)\n",
    "\n",
    "\n",
    "#Basically a good method for skipping processing\n",
    "def just_detach(batch) :\n",
    "#     batch=batch.detach().numpy()\n",
    "    return batch\n",
    "\n",
    "#does not sum the data\n",
    "def no_sum(batch) :\n",
    "#     batch=batch.detach().numpy()\n",
    "    return batch"
   ]
  },
  {
   "cell_type": "code",
   "execution_count": 20,
   "metadata": {},
   "outputs": [
    {
     "data": {
      "image/png": "[encoded data removed]",
      "text/plain": [
       "<Figure size 432x288 with 1 Axes>"
      ]
     },
     "metadata": {
      "needs_background": "light"
     },
     "output_type": "display_data"
    },
    {
     "data": {
      "image/png": "[encoded data removed]",
      "text/plain": [
       "<Figure size 432x288 with 1 Axes>"
      ]
     },
     "metadata": {
      "needs_background": "light"
     },
     "output_type": "display_data"
    }
   ],
   "source": [
    "test_row=torch.rand(1,1,8,31,requires_grad=True)\n",
    "\n",
    "\n",
    "print_data(test_row.detach().numpy())\n",
    "ing=replace_rows(test_row,cutoff=3)\n",
    "# print(\"out\",ing)\n",
    "# test_row.data=torch.from_numpy(ing).float()\n",
    "# print(test_row.grad)\n",
    "# gen=Generator2D()\n",
    "# ran=torch.rand(2,100,1,1)\n",
    "# out=gen(ran)\n",
    "\n",
    "# print_data(out.detach().numpy())\n",
    "# converted=convert_tensor_to_recipe(out)\n",
    "print_data(ing.detach().numpy())"
   ]
  },
  {
   "cell_type": "code",
   "execution_count": 189,
   "metadata": {},
   "outputs": [
    {
     "name": "stdout",
     "output_type": "stream",
     "text": [
      "2d\treplace vectors\t\tsum\t\t\n",
      "\n",
      "2d\treplace vectors\t\tmatrix\t\tpartial shuffle\n",
      "\n",
      "2d\treplace vectors\t\tmatrix\t\tfull shuffle\n",
      "\n",
      "2d\treplace vectors\t\tmatrix\t\tno shuffle\n",
      "\n",
      "2d\tkeep vectors\t\tsum\t\t\n",
      "\n",
      "2d\tkeep vectors\t\tmatrix\t\tpartial shuffle\n",
      "\n",
      "2d\tkeep vectors\t\tmatrix\t\tfull shuffle\n",
      "\n",
      "2d\tkeep vectors\t\tmatrix\t\tno shuffle\n",
      "\n",
      "1d\treplace vectors\t\tsum\t\t\n",
      "\n",
      "1d\treplace vectors\t\tmatrix\t\tfull shuffle\n",
      "\n",
      "1d\treplace vectors\t\tmatrix\t\tno shuffle\n",
      "\n",
      "1d\tkeep vectors\t\tsum\t\t\n",
      "\n",
      "1d\tkeep vectors\t\tmatrix\t\tfull shuffle\n",
      "\n",
      "1d\tkeep vectors\t\tmatrix\t\tno shuffle\n",
      "\n"
     ]
    }
   ],
   "source": [
    "for permutation in permutations :\n",
    "    print(permutation)"
   ]
  },
  {
   "cell_type": "code",
   "execution_count": 19,
   "metadata": {},
   "outputs": [],
   "source": [
    "device=torch.device('cuda')\n",
    "# Learning rate for optimizers\n",
    "lr = 0.0002\n",
    "\n",
    "# Beta1 hyperparam for Adam optimizers\n",
    "beta1 = 0.5\n",
    "\n",
    "\n",
    "real_label = 1.\n",
    "fake_label = 0."
   ]
  },
  {
   "cell_type": "code",
   "execution_count": 211,
   "metadata": {
    "tags": []
   },
   "outputs": [
    {
     "name": "stdout",
     "output_type": "stream",
     "text": [
      "2d replace vectors sum\n",
      "2d sum\n",
      "2d replace vectors matrix partial shuffle\n",
      "2d replace vectors matrix full shuffle\n",
      "2d replace vectors matrix no shuffle\n",
      "2d keep vectors sum\n",
      "2d sum\n",
      "2d keep vectors matrix partial shuffle\n",
      "2d keep vectors matrix full shuffle\n",
      "2d keep vectors matrix no shuffle\n",
      "1d replace vectors sum\n",
      "1d replace vectors matrix full shuffle\n",
      "1d replace vectors matrix no shuffle\n",
      "1d keep vectors sum\n",
      "1d keep vectors matrix full shuffle\n",
      "1d keep vectors matrix no shuffle\n"
     ]
    }
   ],
   "source": [
    "\n",
    "\n",
    "model_permutations=[]\n",
    "for permutation in permutations :\n",
    "    model_data={}\n",
    "    model_data[\"name\"]=permutation.replace('\\t', ' ').replace('  ', ' ').strip()\n",
    "    print(model_data[\"name\"])\n",
    "    model_data[\"generator loss\"]=[]\n",
    "    model_data[\"discriminator loss\"]=[]\n",
    "    model_data[\"activated\"]=True\n",
    "    \n",
    "    model_data[\"criterion\"]=nn.BCELoss()\n",
    "\n",
    "\n",
    "\n",
    "    if 'sum' in permutation :\n",
    "        model_data[\"sum function\"]=convert_tensor_to_recipe\n",
    "        model_data[\"discriminator\"]=DiscriminatorLinear().to(device)\n",
    "        model_data[\"dataloader\"]=DataLoader(recipe_matrices, batch_size=645, shuffle=True)\n",
    "        if '1d' in permutation :\n",
    "            model_data[\"generator\"]=Generator1D().float().to(device)\n",
    "        elif '2d' in permutation :\n",
    "            print(\"2d sum\")\n",
    "            model_data[\"generator\"]=Generator2D().float().to(device)\n",
    "        else :print(\"Something went wrong 0\")\n",
    "                \n",
    "\n",
    "    else : #if sum is not in there\n",
    "        model_data[\"sum function\"]=None\n",
    "        if '1d' in permutation :\n",
    "            #1D NN\n",
    "            model_data[\"discriminator\"]=Discriminator1D().float().to(device)\n",
    "            model_data[\"generator\"]=Generator1D().float().to(device)\n",
    "\n",
    "            if 'partial shuffle' in permutation :\n",
    "                model_data[\"dataloader\"]=DataLoader(shuffled_matrices1d, batch_size=128, shuffle=True)\n",
    "                \n",
    "            elif  'full shuffle' in permutation :\n",
    "                model_data[\"dataloader\"]=DataLoader(full_shuffled_matrices1d, batch_size=256, shuffle=True)\n",
    "                \n",
    "            elif  'no shuffle' in permutation :\n",
    "                model_data[\"dataloader\"]=DataLoader(unaugmented_matrices1d, batch_size=32, shuffle=True)\n",
    "            else :print(\"Something went wrong 1\")\n",
    "                \n",
    "        elif '2d' in permutation :\n",
    "            #2D NN\n",
    "            model_data[\"discriminator\"]=Discriminator2D().float().to(device)\n",
    "            model_data[\"generator\"]=Generator2D().float().to(device)\n",
    "            \n",
    "            if 'partial shuffle' in permutation :\n",
    "                model_data[\"dataloader\"]=DataLoader(shuffled_matrices, batch_size=128, shuffle=True)\n",
    "                \n",
    "            elif  'full shuffle' in permutation :\n",
    "                model_data[\"dataloader\"]=DataLoader(full_shuffled_matrices, batch_size=256, shuffle=True)\n",
    "                \n",
    "            elif  'no shuffle' in permutation :\n",
    "                model_data[\"dataloader\"]=DataLoader(unaugmented_matrices, batch_size=32, shuffle=True)\n",
    "            else :print(\"Something went wrong 2\")\n",
    "                \n",
    "    if \"replace vectors\" in permutation :\n",
    "        model_data[\"processing\"]=replace_rows\n",
    "    elif \"keep vectors\" in permutation :\n",
    "        model_data[\"processing\"]=None\n",
    "    \n",
    "    #apply mormaly distrobution of weights\n",
    "    model_data[\"discriminator\"].apply(weights_init)\n",
    "    model_data[\"generator\"].apply(weights_init)\n",
    "    \n",
    "    #set up optmizers\n",
    "    model_data[\"discriminator optimizer\"]=optim.Adam(model_data[\"discriminator\"].parameters(), lr=lr, betas=(beta1, 0.999))\n",
    "    model_data[\"generator optimizer\"]=optim.Adam(model_data[\"generator\"].parameters(), lr=lr, betas=(beta1, 0.999))\n",
    "    \n",
    "    model_data[\"data iterator\"]=None#iter(model_data[\"dataloader\"])\n",
    "    \n",
    "\n",
    "\n",
    "\n",
    "    model_permutations.append(model_data)\n",
    "    \n"
   ]
  },
  {
   "cell_type": "code",
   "execution_count": 193,
   "metadata": {
    "tags": []
   },
   "outputs": [
    {
     "name": "stdout",
     "output_type": "stream",
     "text": [
      "name\n",
      "generator loss\n",
      "discriminator loss\n",
      "activated\n",
      "criterion\n",
      "sum function\n",
      "discriminator\n",
      "dataloader\n",
      "generator\n",
      "processing\n",
      "discriminator optimizer\n",
      "generator optimizer\n",
      "data iterator\n"
     ]
    }
   ],
   "source": [
    "# for model_data in model_permutations:\n",
    "#     print(model[\"name\"])\n",
    "for key in model_permutations[0].keys() :\n",
    "    print(key)\n",
    "#         print(value)\n",
    "#         print()\n",
    "#     print(\"XXXXXXXXXXXXXXXXXXXXXXXXXXXXXXXXXXXXXXXXXXX\")        "
   ]
  },
  {
   "cell_type": "code",
   "execution_count": 194,
   "metadata": {},
   "outputs": [
    {
     "data": {
      "text/plain": [
       "'GeForce GTX 1080'"
      ]
     },
     "execution_count": 194,
     "metadata": {},
     "output_type": "execute_result"
    }
   ],
   "source": [
    "torch.cuda.is_available()\n",
    "torch.cuda.device(0)\n",
    "# torch.multiprocessing.set_start_method('spawn')\n",
    "torch.cuda.device_count()\n",
    "torch.cuda.get_device_name()"
   ]
  },
  {
   "cell_type": "code",
   "execution_count": 20,
   "metadata": {},
   "outputs": [],
   "source": [
    "def gen_labels(label_state,size) :\n",
    "    if label_state : #true\n",
    "        return torch.FloatTensor(size,).uniform_(1., 1.0)\n",
    "    else : #False\n",
    "        return torch.FloatTensor(size,).uniform_(0.0, 0.0)\n",
    "        \n",
    "\n",
    "def load_data(model_data,dataloader_text=\"dataloader\",iterator_text=\"data iterator\") :\n",
    "    '''Load in next batch of data'''\n",
    "    if model_data[iterator_text]==None :\n",
    "        model_data[iterator_text]=iter(model_data[dataloader_text])\n",
    "    try:\n",
    "        real_batch=next(model_data[iterator_text])\n",
    "    except StopIteration:\n",
    "        model_data[iterator_text]=iter(model_data[dataloader_text])\n",
    "        real_batch=next(model_data[iterator_text])\n",
    "        \n",
    "#     labels=gen_labels(True,real_batch.size(0)) #if the data is loaded its true\n",
    "    return real_batch.to(device)# ,labels.to(device)\n",
    "        \n",
    "\n",
    "def save_data(model_permutations,epoch,folder=\"permutation_progress\") :\n",
    "    #Cannot save iterators for some reason.\n",
    "    name=\"{}/model_permutations_E{}\".format(folder,epoch)\n",
    "    for model_data in model_permutations:\n",
    "        model_data[\"data iterator\"]=None \n",
    "    torch.save(model_permutations,name)\n",
    "    \n",
    "def save_data_dict(models,epoch,folder=\"permutation_progress\") :\n",
    "    #Cannot save iterators for some reason.\n",
    "    name=\"{}/model_dict_E{}\".format(folder,epoch)\n",
    "    for model_data in models.values():\n",
    "        model_data[\"data iterator\"]=None\n",
    "        model_data[\"sum iterator\"]=None \n",
    "    torch.save(models,name)\n",
    "    \n",
    "def plot_model_data(model_data) :\n",
    "    \n",
    "    plt.plot(model_data[\"discriminator loss\"],label=\"discriminator\")\n",
    "    plt.plot(model_data[\"generator loss\"],label=\"generator\")\n",
    "    plt.xlabel(\"epoch\")\n",
    "    plt.title(model_data[\"name\"])\n",
    "#     print(model_data[\"name\"])\n",
    "    plt.legend()\n",
    "    plt.show()\n",
    "    "
   ]
  },
  {
   "cell_type": "code",
   "execution_count": 213,
   "metadata": {
    "tags": []
   },
   "outputs": [],
   "source": [
    "\n",
    "epoch=0\n",
    "num_epochs=40000\n",
    "save_data(model_permutations,epoch)\n",
    "prev_epoch=epoch\n",
    "# plot_model_data(model_permutations[0])"
   ]
  },
  {
   "cell_type": "code",
   "execution_count": 16,
   "metadata": {
    "tags": []
   },
   "outputs": [],
   "source": [
    "num_epochs=1000000\n",
    "model_permutations=torch.load(\"permutation_progress/model_permutations_E80000\")\n",
    "prev_epoch=80000"
   ]
  },
  {
   "cell_type": "code",
   "execution_count": 61,
   "metadata": {
    "collapsed": true,
    "jupyter": {
     "outputs_hidden": true
    },
    "tags": []
   },
   "outputs": [
    {
     "name": "stdout",
     "output_type": "stream",
     "text": [
      "2d keep vectors matrix partial shuffle\n",
      "1.71 oz gin\n",
      "1.75 oz light rum\n",
      "0.89 oz lime\n",
      "0.00 oz sparkling water\n",
      "0.00 oz egg white\n"
     ]
    },
    {
     "data": {
      "image/png": "[encoded data removed]",
      "text/plain": [
       "<Figure size 432x288 with 1 Axes>"
      ]
     },
     "metadata": {},
     "output_type": "display_data"
    },
    {
     "name": "stdout",
     "output_type": "stream",
     "text": [
      "\n",
      "\n"
     ]
    },
    {
     "data": {
      "image/png": "[encoded data removed]",
      "text/plain": [
       "<Figure size 432x288 with 2 Axes>"
      ]
     },
     "metadata": {},
     "output_type": "display_data"
    },
    {
     "name": "stdout",
     "output_type": "stream",
     "text": [
      "2d keep vectors matrix full shuffle\n",
      "0.62 oz light rum\n",
      "0.52 oz sugar cube\n",
      "3.20 oz egg white\n"
     ]
    },
    {
     "data": {
      "image/png": "[encoded data removed]",
      "text/plain": [
       "<Figure size 432x288 with 1 Axes>"
      ]
     },
     "metadata": {},
     "output_type": "display_data"
    },
    {
     "name": "stdout",
     "output_type": "stream",
     "text": [
      "\n",
      "\n"
     ]
    },
    {
     "data": {
      "image/png": "[encoded data removed]",
      "text/plain": [
       "<Figure size 432x288 with 2 Axes>"
      ]
     },
     "metadata": {},
     "output_type": "display_data"
    },
    {
     "name": "stdout",
     "output_type": "stream",
     "text": [
      "2d keep vectors matrix no shuffle\n",
      "2.95 oz vodka\n",
      "0.19 oz sugar cube\n",
      "0.01 oz egg white\n"
     ]
    },
    {
     "data": {
      "image/png": "[encoded data removed]",
      "text/plain": [
       "<Figure size 432x288 with 1 Axes>"
      ]
     },
     "metadata": {},
     "output_type": "display_data"
    },
    {
     "name": "stdout",
     "output_type": "stream",
     "text": [
      "\n",
      "\n"
     ]
    },
    {
     "data": {
      "image/png": "[encoded data removed]",
      "text/plain": [
       "<Figure size 432x288 with 2 Axes>"
      ]
     },
     "metadata": {},
     "output_type": "display_data"
    },
    {
     "name": "stdout",
     "output_type": "stream",
     "text": [
      "epoch 425000\n",
      "epoch 425100\n",
      "epoch 425200\n",
      "epoch 425300\n"
     ]
    },
    {
     "ename": "KeyboardInterrupt",
     "evalue": "",
     "output_type": "error",
     "traceback": [
      "\u001b[1;31m---------------------------------------------------------------------------\u001b[0m",
      "\u001b[1;31mKeyboardInterrupt\u001b[0m                         Traceback (most recent call last)",
      "\u001b[1;32m~\\AppData\\Local\\Temp/ipykernel_5272/2480375833.py\u001b[0m in \u001b[0;36m<module>\u001b[1;34m\u001b[0m\n\u001b[0;32m     86\u001b[0m \u001b[1;33m\u001b[0m\u001b[0m\n\u001b[0;32m     87\u001b[0m             \u001b[1;31m# Since we just updated D, perform another forward pass of all-fake batch through D\u001b[0m\u001b[1;33m\u001b[0m\u001b[1;33m\u001b[0m\u001b[0m\n\u001b[1;32m---> 88\u001b[1;33m             \u001b[0moutput\u001b[0m \u001b[1;33m=\u001b[0m \u001b[0mmodel_data\u001b[0m\u001b[1;33m[\u001b[0m\u001b[1;34m\"discriminator\"\u001b[0m\u001b[1;33m]\u001b[0m\u001b[1;33m(\u001b[0m\u001b[0mfake_batch\u001b[0m\u001b[1;33m)\u001b[0m\u001b[1;33m.\u001b[0m\u001b[0mview\u001b[0m\u001b[1;33m(\u001b[0m\u001b[1;33m-\u001b[0m\u001b[1;36m1\u001b[0m\u001b[1;33m)\u001b[0m\u001b[1;33m\u001b[0m\u001b[1;33m\u001b[0m\u001b[0m\n\u001b[0m\u001b[0;32m     89\u001b[0m             \u001b[1;31m# Calculate G's loss based on this output\u001b[0m\u001b[1;33m\u001b[0m\u001b[1;33m\u001b[0m\u001b[0m\n\u001b[0;32m     90\u001b[0m             \u001b[0merrG\u001b[0m \u001b[1;33m=\u001b[0m \u001b[0mmodel_data\u001b[0m\u001b[1;33m[\u001b[0m\u001b[1;34m\"criterion\"\u001b[0m\u001b[1;33m]\u001b[0m\u001b[1;33m(\u001b[0m\u001b[0moutput\u001b[0m\u001b[1;33m,\u001b[0m \u001b[0mlabels\u001b[0m\u001b[1;33m)\u001b[0m\u001b[1;33m\u001b[0m\u001b[1;33m\u001b[0m\u001b[0m\n",
      "\u001b[1;32mG:\\Programs\\Anaconda\\envs\\ganenv\\lib\\site-packages\\torch\\nn\\modules\\module.py\u001b[0m in \u001b[0;36m_call_impl\u001b[1;34m(self, *input, **kwargs)\u001b[0m\n\u001b[0;32m   1049\u001b[0m         if not (self._backward_hooks or self._forward_hooks or self._forward_pre_hooks or _global_backward_hooks\n\u001b[0;32m   1050\u001b[0m                 or _global_forward_hooks or _global_forward_pre_hooks):\n\u001b[1;32m-> 1051\u001b[1;33m             \u001b[1;32mreturn\u001b[0m \u001b[0mforward_call\u001b[0m\u001b[1;33m(\u001b[0m\u001b[1;33m*\u001b[0m\u001b[0minput\u001b[0m\u001b[1;33m,\u001b[0m \u001b[1;33m**\u001b[0m\u001b[0mkwargs\u001b[0m\u001b[1;33m)\u001b[0m\u001b[1;33m\u001b[0m\u001b[1;33m\u001b[0m\u001b[0m\n\u001b[0m\u001b[0;32m   1052\u001b[0m         \u001b[1;31m# Do not call functions when jit is used\u001b[0m\u001b[1;33m\u001b[0m\u001b[1;33m\u001b[0m\u001b[0m\n\u001b[0;32m   1053\u001b[0m         \u001b[0mfull_backward_hooks\u001b[0m\u001b[1;33m,\u001b[0m \u001b[0mnon_full_backward_hooks\u001b[0m \u001b[1;33m=\u001b[0m \u001b[1;33m[\u001b[0m\u001b[1;33m]\u001b[0m\u001b[1;33m,\u001b[0m \u001b[1;33m[\u001b[0m\u001b[1;33m]\u001b[0m\u001b[1;33m\u001b[0m\u001b[1;33m\u001b[0m\u001b[0m\n",
      "\u001b[1;32m~\\AppData\\Local\\Temp/ipykernel_5272/3230696667.py\u001b[0m in \u001b[0;36mforward\u001b[1;34m(self, input)\u001b[0m\n\u001b[0;32m     49\u001b[0m \u001b[1;33m\u001b[0m\u001b[0m\n\u001b[0;32m     50\u001b[0m     \u001b[1;32mdef\u001b[0m \u001b[0mforward\u001b[0m\u001b[1;33m(\u001b[0m\u001b[0mself\u001b[0m\u001b[1;33m,\u001b[0m \u001b[0minput\u001b[0m\u001b[1;33m)\u001b[0m\u001b[1;33m:\u001b[0m\u001b[1;33m\u001b[0m\u001b[1;33m\u001b[0m\u001b[0m\n\u001b[1;32m---> 51\u001b[1;33m         \u001b[1;32mreturn\u001b[0m \u001b[0mself\u001b[0m\u001b[1;33m.\u001b[0m\u001b[0mmain\u001b[0m\u001b[1;33m(\u001b[0m\u001b[0minput\u001b[0m\u001b[1;33m)\u001b[0m\u001b[1;33m\u001b[0m\u001b[1;33m\u001b[0m\u001b[0m\n\u001b[0m\u001b[0;32m     52\u001b[0m \u001b[1;33m\u001b[0m\u001b[0m\n\u001b[0;32m     53\u001b[0m \u001b[1;33m\u001b[0m\u001b[0m\n",
      "\u001b[1;32mG:\\Programs\\Anaconda\\envs\\ganenv\\lib\\site-packages\\torch\\nn\\modules\\module.py\u001b[0m in \u001b[0;36m_call_impl\u001b[1;34m(self, *input, **kwargs)\u001b[0m\n\u001b[0;32m   1049\u001b[0m         if not (self._backward_hooks or self._forward_hooks or self._forward_pre_hooks or _global_backward_hooks\n\u001b[0;32m   1050\u001b[0m                 or _global_forward_hooks or _global_forward_pre_hooks):\n\u001b[1;32m-> 1051\u001b[1;33m             \u001b[1;32mreturn\u001b[0m \u001b[0mforward_call\u001b[0m\u001b[1;33m(\u001b[0m\u001b[1;33m*\u001b[0m\u001b[0minput\u001b[0m\u001b[1;33m,\u001b[0m \u001b[1;33m**\u001b[0m\u001b[0mkwargs\u001b[0m\u001b[1;33m)\u001b[0m\u001b[1;33m\u001b[0m\u001b[1;33m\u001b[0m\u001b[0m\n\u001b[0m\u001b[0;32m   1052\u001b[0m         \u001b[1;31m# Do not call functions when jit is used\u001b[0m\u001b[1;33m\u001b[0m\u001b[1;33m\u001b[0m\u001b[0m\n\u001b[0;32m   1053\u001b[0m         \u001b[0mfull_backward_hooks\u001b[0m\u001b[1;33m,\u001b[0m \u001b[0mnon_full_backward_hooks\u001b[0m \u001b[1;33m=\u001b[0m \u001b[1;33m[\u001b[0m\u001b[1;33m]\u001b[0m\u001b[1;33m,\u001b[0m \u001b[1;33m[\u001b[0m\u001b[1;33m]\u001b[0m\u001b[1;33m\u001b[0m\u001b[1;33m\u001b[0m\u001b[0m\n",
      "\u001b[1;32mG:\\Programs\\Anaconda\\envs\\ganenv\\lib\\site-packages\\torch\\nn\\modules\\container.py\u001b[0m in \u001b[0;36mforward\u001b[1;34m(self, input)\u001b[0m\n\u001b[0;32m    137\u001b[0m     \u001b[1;32mdef\u001b[0m \u001b[0mforward\u001b[0m\u001b[1;33m(\u001b[0m\u001b[0mself\u001b[0m\u001b[1;33m,\u001b[0m \u001b[0minput\u001b[0m\u001b[1;33m)\u001b[0m\u001b[1;33m:\u001b[0m\u001b[1;33m\u001b[0m\u001b[1;33m\u001b[0m\u001b[0m\n\u001b[0;32m    138\u001b[0m         \u001b[1;32mfor\u001b[0m \u001b[0mmodule\u001b[0m \u001b[1;32min\u001b[0m \u001b[0mself\u001b[0m\u001b[1;33m:\u001b[0m\u001b[1;33m\u001b[0m\u001b[1;33m\u001b[0m\u001b[0m\n\u001b[1;32m--> 139\u001b[1;33m             \u001b[0minput\u001b[0m \u001b[1;33m=\u001b[0m \u001b[0mmodule\u001b[0m\u001b[1;33m(\u001b[0m\u001b[0minput\u001b[0m\u001b[1;33m)\u001b[0m\u001b[1;33m\u001b[0m\u001b[1;33m\u001b[0m\u001b[0m\n\u001b[0m\u001b[0;32m    140\u001b[0m         \u001b[1;32mreturn\u001b[0m \u001b[0minput\u001b[0m\u001b[1;33m\u001b[0m\u001b[1;33m\u001b[0m\u001b[0m\n\u001b[0;32m    141\u001b[0m \u001b[1;33m\u001b[0m\u001b[0m\n",
      "\u001b[1;32mG:\\Programs\\Anaconda\\envs\\ganenv\\lib\\site-packages\\torch\\nn\\modules\\module.py\u001b[0m in \u001b[0;36m_call_impl\u001b[1;34m(self, *input, **kwargs)\u001b[0m\n\u001b[0;32m   1049\u001b[0m         if not (self._backward_hooks or self._forward_hooks or self._forward_pre_hooks or _global_backward_hooks\n\u001b[0;32m   1050\u001b[0m                 or _global_forward_hooks or _global_forward_pre_hooks):\n\u001b[1;32m-> 1051\u001b[1;33m             \u001b[1;32mreturn\u001b[0m \u001b[0mforward_call\u001b[0m\u001b[1;33m(\u001b[0m\u001b[1;33m*\u001b[0m\u001b[0minput\u001b[0m\u001b[1;33m,\u001b[0m \u001b[1;33m**\u001b[0m\u001b[0mkwargs\u001b[0m\u001b[1;33m)\u001b[0m\u001b[1;33m\u001b[0m\u001b[1;33m\u001b[0m\u001b[0m\n\u001b[0m\u001b[0;32m   1052\u001b[0m         \u001b[1;31m# Do not call functions when jit is used\u001b[0m\u001b[1;33m\u001b[0m\u001b[1;33m\u001b[0m\u001b[0m\n\u001b[0;32m   1053\u001b[0m         \u001b[0mfull_backward_hooks\u001b[0m\u001b[1;33m,\u001b[0m \u001b[0mnon_full_backward_hooks\u001b[0m \u001b[1;33m=\u001b[0m \u001b[1;33m[\u001b[0m\u001b[1;33m]\u001b[0m\u001b[1;33m,\u001b[0m \u001b[1;33m[\u001b[0m\u001b[1;33m]\u001b[0m\u001b[1;33m\u001b[0m\u001b[1;33m\u001b[0m\u001b[0m\n",
      "\u001b[1;32mG:\\Programs\\Anaconda\\envs\\ganenv\\lib\\site-packages\\torch\\nn\\modules\\conv.py\u001b[0m in \u001b[0;36mforward\u001b[1;34m(self, input)\u001b[0m\n\u001b[0;32m    441\u001b[0m \u001b[1;33m\u001b[0m\u001b[0m\n\u001b[0;32m    442\u001b[0m     \u001b[1;32mdef\u001b[0m \u001b[0mforward\u001b[0m\u001b[1;33m(\u001b[0m\u001b[0mself\u001b[0m\u001b[1;33m,\u001b[0m \u001b[0minput\u001b[0m\u001b[1;33m:\u001b[0m \u001b[0mTensor\u001b[0m\u001b[1;33m)\u001b[0m \u001b[1;33m->\u001b[0m \u001b[0mTensor\u001b[0m\u001b[1;33m:\u001b[0m\u001b[1;33m\u001b[0m\u001b[1;33m\u001b[0m\u001b[0m\n\u001b[1;32m--> 443\u001b[1;33m         \u001b[1;32mreturn\u001b[0m \u001b[0mself\u001b[0m\u001b[1;33m.\u001b[0m\u001b[0m_conv_forward\u001b[0m\u001b[1;33m(\u001b[0m\u001b[0minput\u001b[0m\u001b[1;33m,\u001b[0m \u001b[0mself\u001b[0m\u001b[1;33m.\u001b[0m\u001b[0mweight\u001b[0m\u001b[1;33m,\u001b[0m \u001b[0mself\u001b[0m\u001b[1;33m.\u001b[0m\u001b[0mbias\u001b[0m\u001b[1;33m)\u001b[0m\u001b[1;33m\u001b[0m\u001b[1;33m\u001b[0m\u001b[0m\n\u001b[0m\u001b[0;32m    444\u001b[0m \u001b[1;33m\u001b[0m\u001b[0m\n\u001b[0;32m    445\u001b[0m \u001b[1;32mclass\u001b[0m \u001b[0mConv3d\u001b[0m\u001b[1;33m(\u001b[0m\u001b[0m_ConvNd\u001b[0m\u001b[1;33m)\u001b[0m\u001b[1;33m:\u001b[0m\u001b[1;33m\u001b[0m\u001b[1;33m\u001b[0m\u001b[0m\n",
      "\u001b[1;32mG:\\Programs\\Anaconda\\envs\\ganenv\\lib\\site-packages\\torch\\nn\\modules\\conv.py\u001b[0m in \u001b[0;36m_conv_forward\u001b[1;34m(self, input, weight, bias)\u001b[0m\n\u001b[0;32m    437\u001b[0m                             \u001b[0mweight\u001b[0m\u001b[1;33m,\u001b[0m \u001b[0mbias\u001b[0m\u001b[1;33m,\u001b[0m \u001b[0mself\u001b[0m\u001b[1;33m.\u001b[0m\u001b[0mstride\u001b[0m\u001b[1;33m,\u001b[0m\u001b[1;33m\u001b[0m\u001b[1;33m\u001b[0m\u001b[0m\n\u001b[0;32m    438\u001b[0m                             _pair(0), self.dilation, self.groups)\n\u001b[1;32m--> 439\u001b[1;33m         return F.conv2d(input, weight, bias, self.stride,\n\u001b[0m\u001b[0;32m    440\u001b[0m                         self.padding, self.dilation, self.groups)\n\u001b[0;32m    441\u001b[0m \u001b[1;33m\u001b[0m\u001b[0m\n",
      "\u001b[1;31mKeyboardInterrupt\u001b[0m: "
     ]
    }
   ],
   "source": [
    "#TRAIN\n",
    "for epoch in range(prev_epoch,num_epochs):\n",
    "    prev_epoch=epoch\n",
    "\n",
    "    #iterate over models\n",
    "    for model_data in model_permutations:\n",
    "        if model_data[\"activated\" ] :\n",
    "#             print(model_data[\"name\"])\n",
    "            ############################\n",
    "            # (1) Update D network: maximize log(D(x)) + log(1 - D(G(z)))\n",
    "            ###########################\n",
    "            ## Train with all-real batch\n",
    "\n",
    "            #zero gradients\n",
    "            model_data[\"discriminator\"].zero_grad()\n",
    "\n",
    "\n",
    "            # Format batch\n",
    "            real_batch,_=load_data(model_data)\n",
    "            b_size = real_batch.size(0)\n",
    "            real_batch=real_batch.to(device)\n",
    "            \n",
    "            labels = torch.full((b_size,), 1., dtype=torch.float, device=device)\n",
    "            \n",
    "\n",
    "            # Forward pass real batch through D\n",
    "            output = model_data[\"discriminator\"](real_batch.float()).view(-1)\n",
    "\n",
    "            # Calculate loss on all-real batch\n",
    "            errD_real = model_data[\"criterion\"](output, labels)\n",
    "\n",
    "            # Calculate gradients for D in backward pass\n",
    "            errD_real.backward()\n",
    "            D_x = output.mean().item()\n",
    "\n",
    "            ## Train with all-fake batch\n",
    "            # Generate batch of latent vectors\n",
    "            noise = torch.randn(b_size, 100, 1, 1, device=device)\n",
    "\n",
    "            # Generate fake image batch with generator\n",
    "            fake_batch = model_data[\"generator\"](noise)\n",
    "#             print(fake_batch.shape)\n",
    "            #generate labels for fake batch\n",
    "#             fake_labels=gen_labels(False,b_size).to(device)\n",
    "            labels.fill_(0.) #fill with fake tag\n",
    "\n",
    "    #       process data            \n",
    "            if model_data[\"processing\"] is not None :\n",
    "                fake_batch=model_data[\"processing\"](fake_batch)\n",
    "\n",
    "                if model_data[\"sum function\"] is not None :\n",
    "                    fake_batch=model_data[\"sum function\"](fake_batch) #or not summed, if the function doesn't sum it\n",
    "#                 fake_batch=torch.from_numpy(fake_batch).to(device) #should be very detached\n",
    "         \n",
    "            elif  model_data[\"sum function\"]  is not None : #this looks dumb but should save some time\n",
    "                fake_batch=model_data[\"sum function\"](fake_batch) #or not summed, if the function doesn't sum it\n",
    "\n",
    "            #pass generated and processed data into the disciminator\n",
    "            output = model_data[\"discriminator\"](fake_batch.detach()).view(-1) #this should be detached as this is not training the discriminator\n",
    "\n",
    "            # Calculate D's loss on the all-fake batch\n",
    "#             print(fake_labels.shape)\n",
    "#             print(output.shape)\n",
    "#             print(model_data[\"name\"])\n",
    "            errD_fake = model_data[\"criterion\"](output, labels)\n",
    "\n",
    "            # Calculate the gradients for this batch, accumulated (summed) with previous gradients\n",
    "            errD_fake.backward()\n",
    "            D_G_z1 = output.mean().item()\n",
    "\n",
    "            # Compute error of D as sum over the fake and the real batches\n",
    "            errD = errD_real + errD_fake\n",
    "            # Update D\n",
    "            model_data[\"discriminator optimizer\"].step()\n",
    "\n",
    "            ############################\n",
    "            # (2) Update G network: maximize log(D(G(z)))\n",
    "            ###########################\n",
    "            model_data[\"generator\"].zero_grad()\n",
    "\n",
    "    #         label.fill_(real_label)  # fake labels are real for generator cost\n",
    "#             labels=gen_labels(True,b_size).to(device)\n",
    "#             labels = torch.full((b_size,), 1., dtype=torch.float, device=device)\n",
    "            labels.fill_(1.) #fill with real tag\n",
    "    \n",
    "\n",
    "            # Since we just updated D, perform another forward pass of all-fake batch through D\n",
    "            output = model_data[\"discriminator\"](fake_batch).view(-1)\n",
    "            # Calculate G's loss based on this output\n",
    "            errG = model_data[\"criterion\"](output, labels)\n",
    "            # Calculate gradients for G\n",
    "            errG.backward()\n",
    "            D_G_z2 = output.mean().item()\n",
    "\n",
    "            # Update G\n",
    "            model_data[\"generator optimizer\"].step()\n",
    "\n",
    "\n",
    "            # Save Losses for plotting later\n",
    "            model_data[\"generator loss\"].append(errG.item())\n",
    "            model_data[\"discriminator loss\"].append(errD.item())\n",
    "\n",
    "    # Output training stats & save\n",
    "    if epoch % 1000 == 0:\n",
    "#         print(\"epoch\",epoch)\n",
    "        save_data(model_permutations,epoch)\n",
    "        clear_output()\n",
    "        plotted=\"\"\n",
    "\n",
    "        noise = torch.randn(1,100, 1, 1, device=device)\n",
    "#         for model_data in model_permutations:\n",
    "\n",
    "        for model_data in model_permutations:\n",
    "            if model_data[\"activated\"] :\n",
    "                with torch.no_grad():\n",
    "                    print(model_data[\"name\"])\n",
    "                    generator=model_data[\"generator\"]\n",
    "                    generated=generator(noise)\n",
    "                    print_recipe_vals(generated.cpu().detach(),4)\n",
    "                    print_data(generated.cpu().detach())\n",
    "                    print(\"\\n\")\n",
    "                \n",
    "                #plot\n",
    "                if \"keep vectors\" in model_data[\"name\"] and model_data[\"name\"] not in plotted:\n",
    "                    pair_name=model_data[\"name\"].replace(\"keep vectors\",\"replace vectors\")\n",
    "                    \n",
    "                    pair=None\n",
    "                    for m in model_permutations:\n",
    "                        if m[\"name\"]==pair_name :\n",
    "                            if m[\"activated\"] :\n",
    "                                pair=m\n",
    "                                break\n",
    "                            \n",
    "                    if pair is not None :\n",
    "                        fig, (ax1, ax2) = plt.subplots(2)\n",
    "                        ax3 = ax1.twinx() \n",
    "                        ax4 = ax2.twinx() \n",
    "                        title=model_data[\"name\"].replace(\"keep vectors\",\"\")\n",
    "                        fig.suptitle(title)\n",
    "                        N=50\n",
    "                        ax1.plot(pair[\"generator loss\"][N:],label=\"generator loss\")\n",
    "                        ax3.plot(pair[\"discriminator loss\"][N:],label=\"discriminator loss\",color=\"orange\")\n",
    "                        ax2.plot(model_data[\"generator loss\"][N:],label=\"generator loss\")\n",
    "                        ax4.plot(model_data[\"discriminator loss\"][N:],label=\"discriminator loss\",color=\"orange\")\n",
    "                        \n",
    "                        plotted+=model_data[\"name\"]+\" \"\n",
    "                        plotted+=pair[\"name\"]+\" \"\n",
    "                        \n",
    "                        ax1.set_title(\"replace vectors\")\n",
    "                        ax2.set_title(\"keep vectors\")\n",
    "#                         ax1.xlabel(\"epoch\")\n",
    "#                         ax.xlabel(\"epoch\")\n",
    "                        ax1.legend()\n",
    "                        ax2.legend()\n",
    "                        ax3.legend(loc=0)\n",
    "                        ax4.legend(loc=0)\n",
    "                        plt.style.use('dark_background')\n",
    "                        ax1.set_yscale('log')\n",
    "                        ax2.set_yscale('log')\n",
    "                        ax3.set_yscale('log')\n",
    "                        ax4.set_yscale('log')\n",
    "                        plt.show()\n",
    "                    else :\n",
    "                        fig, (ax1,ax2) = plt.subplots(2)\n",
    "#                         ax2=ax1.twinx()\n",
    "                        plotted+=model_data[\"name\"]+\" \"\n",
    "                        ax2.plot(model_data[\"discriminator loss\"],label=\"discriminator\",color=\"orange\")\n",
    "                        ax1.plot(model_data[\"generator loss\"],label=\"generator\")\n",
    "                        ax1.set_xlabel(\"epoch\")\n",
    "#                         ax2.set_xlabel(\"epoch\")\n",
    "                        plt.title(model_data[\"name\"])                        \n",
    "                        plt.legend()\n",
    "#print(model_data[\"name\"])ax11.set_yscale('log')\n",
    "                        ax1.set_yscale('log')\n",
    "                        ax2.set_yscale('log')\n",
    "                        \n",
    "                        plt.style.use('dark_background')\n",
    "                        plt.show()\n",
    "    if epoch%100==0 :\n",
    "        print(\"epoch\",epoch)\n",
    "         "
   ]
  },
  {
   "cell_type": "code",
   "execution_count": 27,
   "metadata": {},
   "outputs": [],
   "source": [
    "save_data(model_permutations,epoch)"
   ]
  },
  {
   "cell_type": "code",
   "execution_count": 21,
   "metadata": {},
   "outputs": [],
   "source": [
    "def update_learning_rate(optimizer,lr) :\n",
    "    for param_group in optimizer.param_groups:\n",
    "        param_group['lr']=lr\n",
    "        print(param_group['lr'])"
   ]
  },
  {
   "cell_type": "code",
   "execution_count": 22,
   "metadata": {
    "tags": []
   },
   "outputs": [],
   "source": [
    "def print_recipe_vals(generated,multiplier) :\n",
    "    ingredients={}\n",
    "    d=2\n",
    "    if generated.size(1)==8 :\n",
    "        d=1\n",
    "        for i in range(generated.size(d)):\n",
    "            ingredient=generated[0][i][0]\n",
    "            actual_ingredient,name=get_nearest_ingredient(ingredient,cutoff=.7,get_label=True)\n",
    "            if name != \"\" :\n",
    "                if name ==\"white\" :\n",
    "                    name=\"egg white\"\n",
    "                if name in ingredients.keys() :\n",
    "                    ingredients[name]+=multiplier*actual_ingredient[0]\n",
    "                else :\n",
    "                     ingredients[name]=multiplier*actual_ingredient[0]\n",
    "\n",
    "    else :\n",
    "        for i in range(generated.size(d)):\n",
    "            ingredient=generated[0][0][i]\n",
    "            actual_ingredient,name=get_nearest_ingredient(ingredient,cutoff=.7,get_label=True)\n",
    "            if name != \"\" :\n",
    "                if name ==\"white\" :\n",
    "                    name=\"egg white\"\n",
    "                if name in ingredients.keys() :\n",
    "                    ingredients[name]+=multiplier*actual_ingredient[0]\n",
    "                else :\n",
    "                     ingredients[name]=multiplier*actual_ingredient[0]\n",
    "    \n",
    "    for name,volume in ingredients.items() :\n",
    "        print(\"{:.2f} oz {}\".format(volume,name))\n"
   ]
  },
  {
   "cell_type": "code",
   "execution_count": 51,
   "metadata": {},
   "outputs": [
    {
     "name": "stdout",
     "output_type": "stream",
     "text": [
      "0.0001\n"
     ]
    }
   ],
   "source": [
    "for model_data in model_permutations:\n",
    "    if \"2d keep vectors matrix partial shuffle\"== model_data[\"name\"] :\n",
    "        update_learning_rate(model_data[\"discriminator optimizer\"],.0001)"
   ]
  },
  {
   "cell_type": "code",
   "execution_count": 23,
   "metadata": {},
   "outputs": [],
   "source": [
    "def replace_data(copy_to,copy_from,data_name) :\n",
    "    copy_to_data=None\n",
    "    copy_from_data=None\n",
    "    for model_data in model_permutations:\n",
    "        if \"replace vectors\" in model_data[\"name\"] :# and \"replace\" in model_data[\"name\"] :\n",
    "                model_data[\"activated\"]=False\n",
    "#     elif \"keep vectors\" in permutation :\n",
    "#         model_data[\"processing\"]=None\n",
    "        \n",
    "#     if 'sum' in model_data[\"name\"] :\n",
    "#         model_data[\"sum function\"]=convert_tensor_to_recipe"
   ]
  },
  {
   "cell_type": "code",
   "execution_count": 59,
   "metadata": {},
   "outputs": [
    {
     "name": "stdout",
     "output_type": "stream",
     "text": [
      "0.0001\n",
      "0.0001\n",
      "2d keep vectors matrix no shuffle\n",
      "True\n",
      "None\n",
      "None\n",
      "#############################\n",
      "\n"
     ]
    }
   ],
   "source": [
    "from copy import deepcopy\n",
    "model_permutations_old=torch.load(\"permutation_progress/model_permutations_E314000\")\n",
    "\n",
    "for model_data,old_data in zip(model_permutations,model_permutations_old):\n",
    "    if \"2d keep vectors matrix no shuffle\"== model_data[\"name\"] :\n",
    "\n",
    "        model_data[\"discriminator\"]=deepcopy(old_data[\"discriminator\"])\n",
    "        model_data[\"generator\"]=deepcopy(old_data[\"generator\"])\n",
    "        model_data[\"generator loss\"]=deepcopy(old_data[\"generator loss\"])\n",
    "        model_data[\"discriminator loss\"]=deepcopy(old_data[\"discriminator loss\"])\n",
    "        \n",
    "        update_learning_rate(model_data[\"discriminator optimizer\"],.0001)\n",
    "        update_learning_rate(model_data[\"generator optimizer\"],.0001)\n",
    "        print(model_data['name'])\n",
    "        print(model_data['activated'])\n",
    "        print(model_data['processing'])\n",
    "        print(model_data['sum function'])\n",
    "        print('#############################\\n')"
   ]
  },
  {
   "cell_type": "code",
   "execution_count": 92,
   "metadata": {},
   "outputs": [
    {
     "name": "stdout",
     "output_type": "stream",
     "text": [
      "4.123105625617661\n",
      "4.123105625617661\n"
     ]
    }
   ],
   "source": [
    "a=np.array([1,2,0,1])\n",
    "b=np.array([1,1,4,1])\n",
    "\n",
    "print(np.linalg.norm(a-b))\n",
    "\n",
    "squared=0\n",
    "for i in range(len(a)) :\n",
    "    squared+=(a[i]-b[i])**2\n",
    "# print(squared\n",
    "print(np.sqrt(squared))"
   ]
  },
  {
   "cell_type": "code",
   "execution_count": 138,
   "metadata": {},
   "outputs": [],
   "source": [
    "ingredient_list=[i.get_flavors() for i in ih.ingredients if 'egg white' not in i.get_names()]\n",
    "# [print(i.get_names()) for i in ih.ingredients if 'egg white' in i.get_names()]\n",
    "# @jit is actually much slower in this case it seems.\n",
    "def calc_overlap(batch,ingredient_list,cutoff=0.9) :\n",
    "    total_rows=0\n",
    "    correct_rows=0\n",
    "    for i in range(batch.shape[0]) :\n",
    "        matrix=batch[i][0]\n",
    "        for row in matrix:\n",
    "            if np.sum(row)>0.1 :\n",
    "                percent=row[0]\n",
    "                pseudo_ingredient=(1/percent)*row[1:]\n",
    "\n",
    "                total_rows+=1.0\n",
    "                for ingredient in ingredient_list :\n",
    "                    dist = np.linalg.norm(pseudo_ingredient-ingredient)\n",
    "    #                 print(dist)\n",
    "                    if dist<cutoff :\n",
    "                        correct_rows+=1\n",
    "                        break\n",
    "#     print(total_rows)\n",
    "    if correct_rows>0 :\n",
    "        return correct_rows/total_rows\n",
    "    else : return 0.0\n",
    "                \n",
    "            \n",
    "# noise = torch.randn(600,100, 1, 1, device=device)\n",
    "# with torch.no_grad():\n",
    "#     print(model_permutations[0][\"name\"])\n",
    "#     av_time=0\n",
    "#     generator=model_permutations[0][\"generator\"]\n",
    "#     generated=generator(noise)\n",
    "#     print_data(generated.cpu().detach())\n",
    "#     percent=calc_overlap(generated.cpu().detach().numpy(),ingredient_list,cutoff=2)\n",
    "\n",
    "\n",
    "#     print(percent)\n",
    "#     print(1/percent)\n",
    "#     print(\"\\n\")"
   ]
  },
  {
   "cell_type": "code",
   "execution_count": 187,
   "metadata": {
    "collapsed": true,
    "jupyter": {
     "outputs_hidden": true
    },
    "tags": []
   },
   "outputs": [
    {
     "name": "stdout",
     "output_type": "stream",
     "text": [
      "epoch 280000\n",
      "2d keep vectors matrix no shuffle\n",
      "2.11 oz light rum\n",
      "0.48 oz lime\n",
      "0.00 oz egg white\n"
     ]
    },
    {
     "data": {
      "image/png": "[encoded data removed]",
      "text/plain": [
       "<Figure size 432x288 with 1 Axes>"
      ]
     },
     "metadata": {},
     "output_type": "display_data"
    },
    {
     "name": "stdout",
     "output_type": "stream",
     "text": [
      "\n",
      "\n",
      "epoch 282000\n",
      "2d keep vectors matrix no shuffle\n",
      "0.81 oz sparkling water\n",
      "0.65 oz vodka\n",
      "0.27 oz sugar cube\n",
      "0.28 oz lime\n",
      "0.00 oz egg white\n"
     ]
    },
    {
     "data": {
      "image/png": "[encoded data removed]",
      "text/plain": [
       "<Figure size 432x288 with 1 Axes>"
      ]
     },
     "metadata": {},
     "output_type": "display_data"
    },
    {
     "name": "stdout",
     "output_type": "stream",
     "text": [
      "\n",
      "\n",
      "epoch 284000\n",
      "2d keep vectors matrix no shuffle\n",
      "2.07 oz vermouth rouge\n",
      "0.40 oz lemon juice\n",
      "0.33 oz sugar cube\n",
      "0.00 oz egg white\n"
     ]
    },
    {
     "data": {
      "image/png": "[encoded data removed]",
      "text/plain": [
       "<Figure size 432x288 with 1 Axes>"
      ]
     },
     "metadata": {},
     "output_type": "display_data"
    },
    {
     "name": "stdout",
     "output_type": "stream",
     "text": [
      "\n",
      "\n",
      "epoch 286000\n",
      "2d keep vectors matrix no shuffle\n",
      "0.00 oz egg white\n"
     ]
    },
    {
     "data": {
      "image/png": "[encoded data removed]",
      "text/plain": [
       "<Figure size 432x288 with 1 Axes>"
      ]
     },
     "metadata": {},
     "output_type": "display_data"
    },
    {
     "name": "stdout",
     "output_type": "stream",
     "text": [
      "\n",
      "\n"
     ]
    },
    {
     "ename": "KeyboardInterrupt",
     "evalue": "",
     "output_type": "error",
     "traceback": [
      "\u001b[1;31m---------------------------------------------------------------------------\u001b[0m",
      "\u001b[1;31mKeyboardInterrupt\u001b[0m                         Traceback (most recent call last)",
      "\u001b[1;32m~\\AppData\\Local\\Temp/ipykernel_5272/987978747.py\u001b[0m in \u001b[0;36m<module>\u001b[1;34m\u001b[0m\n\u001b[0;32m      1\u001b[0m \u001b[1;32mfor\u001b[0m \u001b[0me\u001b[0m \u001b[1;32min\u001b[0m \u001b[0mrange\u001b[0m\u001b[1;33m(\u001b[0m\u001b[1;36m280000\u001b[0m\u001b[1;33m,\u001b[0m\u001b[1;36m316000\u001b[0m\u001b[1;33m,\u001b[0m\u001b[1;36m2000\u001b[0m\u001b[1;33m)\u001b[0m \u001b[1;33m:\u001b[0m\u001b[1;33m\u001b[0m\u001b[1;33m\u001b[0m\u001b[0m\n\u001b[0;32m      2\u001b[0m     \u001b[0mnoise\u001b[0m \u001b[1;33m=\u001b[0m \u001b[0mtorch\u001b[0m\u001b[1;33m.\u001b[0m\u001b[0mrandn\u001b[0m\u001b[1;33m(\u001b[0m\u001b[1;36m1\u001b[0m\u001b[1;33m,\u001b[0m\u001b[1;36m100\u001b[0m\u001b[1;33m,\u001b[0m \u001b[1;36m1\u001b[0m\u001b[1;33m,\u001b[0m \u001b[1;36m1\u001b[0m\u001b[1;33m,\u001b[0m \u001b[0mdevice\u001b[0m\u001b[1;33m=\u001b[0m\u001b[0mdevice\u001b[0m\u001b[1;33m)\u001b[0m\u001b[1;33m\u001b[0m\u001b[1;33m\u001b[0m\u001b[0m\n\u001b[1;32m----> 3\u001b[1;33m     \u001b[0mmodel_permutations_old\u001b[0m\u001b[1;33m=\u001b[0m\u001b[0mtorch\u001b[0m\u001b[1;33m.\u001b[0m\u001b[0mload\u001b[0m\u001b[1;33m(\u001b[0m\u001b[1;34m\"permutation_progress/model_permutations_E{}\"\u001b[0m\u001b[1;33m.\u001b[0m\u001b[0mformat\u001b[0m\u001b[1;33m(\u001b[0m\u001b[0me\u001b[0m\u001b[1;33m)\u001b[0m\u001b[1;33m)\u001b[0m\u001b[1;33m\u001b[0m\u001b[1;33m\u001b[0m\u001b[0m\n\u001b[0m\u001b[0;32m      4\u001b[0m     \u001b[0mprint\u001b[0m\u001b[1;33m(\u001b[0m\u001b[1;34m\"epoch\"\u001b[0m\u001b[1;33m,\u001b[0m\u001b[0me\u001b[0m\u001b[1;33m)\u001b[0m\u001b[1;33m\u001b[0m\u001b[1;33m\u001b[0m\u001b[0m\n\u001b[0;32m      5\u001b[0m     \u001b[1;32mfor\u001b[0m \u001b[0mmodel_data\u001b[0m \u001b[1;32min\u001b[0m \u001b[0mmodel_permutations_old\u001b[0m \u001b[1;33m:\u001b[0m\u001b[1;33m\u001b[0m\u001b[1;33m\u001b[0m\u001b[0m\n",
      "\u001b[1;32mG:\\Programs\\Anaconda\\envs\\ganenv\\lib\\site-packages\\torch\\serialization.py\u001b[0m in \u001b[0;36mload\u001b[1;34m(f, map_location, pickle_module, **pickle_load_args)\u001b[0m\n\u001b[0;32m    605\u001b[0m                     \u001b[0mopened_file\u001b[0m\u001b[1;33m.\u001b[0m\u001b[0mseek\u001b[0m\u001b[1;33m(\u001b[0m\u001b[0morig_position\u001b[0m\u001b[1;33m)\u001b[0m\u001b[1;33m\u001b[0m\u001b[1;33m\u001b[0m\u001b[0m\n\u001b[0;32m    606\u001b[0m                     \u001b[1;32mreturn\u001b[0m \u001b[0mtorch\u001b[0m\u001b[1;33m.\u001b[0m\u001b[0mjit\u001b[0m\u001b[1;33m.\u001b[0m\u001b[0mload\u001b[0m\u001b[1;33m(\u001b[0m\u001b[0mopened_file\u001b[0m\u001b[1;33m)\u001b[0m\u001b[1;33m\u001b[0m\u001b[1;33m\u001b[0m\u001b[0m\n\u001b[1;32m--> 607\u001b[1;33m                 \u001b[1;32mreturn\u001b[0m \u001b[0m_load\u001b[0m\u001b[1;33m(\u001b[0m\u001b[0mopened_zipfile\u001b[0m\u001b[1;33m,\u001b[0m \u001b[0mmap_location\u001b[0m\u001b[1;33m,\u001b[0m \u001b[0mpickle_module\u001b[0m\u001b[1;33m,\u001b[0m \u001b[1;33m**\u001b[0m\u001b[0mpickle_load_args\u001b[0m\u001b[1;33m)\u001b[0m\u001b[1;33m\u001b[0m\u001b[1;33m\u001b[0m\u001b[0m\n\u001b[0m\u001b[0;32m    608\u001b[0m         \u001b[1;32mreturn\u001b[0m \u001b[0m_legacy_load\u001b[0m\u001b[1;33m(\u001b[0m\u001b[0mopened_file\u001b[0m\u001b[1;33m,\u001b[0m \u001b[0mmap_location\u001b[0m\u001b[1;33m,\u001b[0m \u001b[0mpickle_module\u001b[0m\u001b[1;33m,\u001b[0m \u001b[1;33m**\u001b[0m\u001b[0mpickle_load_args\u001b[0m\u001b[1;33m)\u001b[0m\u001b[1;33m\u001b[0m\u001b[1;33m\u001b[0m\u001b[0m\n\u001b[0;32m    609\u001b[0m \u001b[1;33m\u001b[0m\u001b[0m\n",
      "\u001b[1;32mG:\\Programs\\Anaconda\\envs\\ganenv\\lib\\site-packages\\torch\\serialization.py\u001b[0m in \u001b[0;36m_load\u001b[1;34m(zip_file, map_location, pickle_module, pickle_file, **pickle_load_args)\u001b[0m\n\u001b[0;32m    880\u001b[0m     \u001b[0munpickler\u001b[0m \u001b[1;33m=\u001b[0m \u001b[0mUnpicklerWrapper\u001b[0m\u001b[1;33m(\u001b[0m\u001b[0mdata_file\u001b[0m\u001b[1;33m,\u001b[0m \u001b[1;33m**\u001b[0m\u001b[0mpickle_load_args\u001b[0m\u001b[1;33m)\u001b[0m\u001b[1;33m\u001b[0m\u001b[1;33m\u001b[0m\u001b[0m\n\u001b[0;32m    881\u001b[0m     \u001b[0munpickler\u001b[0m\u001b[1;33m.\u001b[0m\u001b[0mpersistent_load\u001b[0m \u001b[1;33m=\u001b[0m \u001b[0mpersistent_load\u001b[0m\u001b[1;33m\u001b[0m\u001b[1;33m\u001b[0m\u001b[0m\n\u001b[1;32m--> 882\u001b[1;33m     \u001b[0mresult\u001b[0m \u001b[1;33m=\u001b[0m \u001b[0munpickler\u001b[0m\u001b[1;33m.\u001b[0m\u001b[0mload\u001b[0m\u001b[1;33m(\u001b[0m\u001b[1;33m)\u001b[0m\u001b[1;33m\u001b[0m\u001b[1;33m\u001b[0m\u001b[0m\n\u001b[0m\u001b[0;32m    883\u001b[0m \u001b[1;33m\u001b[0m\u001b[0m\n\u001b[0;32m    884\u001b[0m     \u001b[0mtorch\u001b[0m\u001b[1;33m.\u001b[0m\u001b[0m_utils\u001b[0m\u001b[1;33m.\u001b[0m\u001b[0m_validate_loaded_sparse_tensors\u001b[0m\u001b[1;33m(\u001b[0m\u001b[1;33m)\u001b[0m\u001b[1;33m\u001b[0m\u001b[1;33m\u001b[0m\u001b[0m\n",
      "\u001b[1;32mG:\\Programs\\Anaconda\\envs\\ganenv\\lib\\site-packages\\torch\\serialization.py\u001b[0m in \u001b[0;36mpersistent_load\u001b[1;34m(saved_id)\u001b[0m\n\u001b[0;32m    855\u001b[0m         \u001b[0mdata_type\u001b[0m\u001b[1;33m,\u001b[0m \u001b[0mkey\u001b[0m\u001b[1;33m,\u001b[0m \u001b[0mlocation\u001b[0m\u001b[1;33m,\u001b[0m \u001b[0msize\u001b[0m \u001b[1;33m=\u001b[0m \u001b[0mdata\u001b[0m\u001b[1;33m\u001b[0m\u001b[1;33m\u001b[0m\u001b[0m\n\u001b[0;32m    856\u001b[0m         \u001b[1;32mif\u001b[0m \u001b[0mkey\u001b[0m \u001b[1;32mnot\u001b[0m \u001b[1;32min\u001b[0m \u001b[0mloaded_storages\u001b[0m\u001b[1;33m:\u001b[0m\u001b[1;33m\u001b[0m\u001b[1;33m\u001b[0m\u001b[0m\n\u001b[1;32m--> 857\u001b[1;33m             \u001b[0mload_tensor\u001b[0m\u001b[1;33m(\u001b[0m\u001b[0mdata_type\u001b[0m\u001b[1;33m,\u001b[0m \u001b[0msize\u001b[0m\u001b[1;33m,\u001b[0m \u001b[0mkey\u001b[0m\u001b[1;33m,\u001b[0m \u001b[0m_maybe_decode_ascii\u001b[0m\u001b[1;33m(\u001b[0m\u001b[0mlocation\u001b[0m\u001b[1;33m)\u001b[0m\u001b[1;33m)\u001b[0m\u001b[1;33m\u001b[0m\u001b[1;33m\u001b[0m\u001b[0m\n\u001b[0m\u001b[0;32m    858\u001b[0m         \u001b[0mstorage\u001b[0m \u001b[1;33m=\u001b[0m \u001b[0mloaded_storages\u001b[0m\u001b[1;33m[\u001b[0m\u001b[0mkey\u001b[0m\u001b[1;33m]\u001b[0m\u001b[1;33m\u001b[0m\u001b[1;33m\u001b[0m\u001b[0m\n\u001b[0;32m    859\u001b[0m         \u001b[1;32mreturn\u001b[0m \u001b[0mstorage\u001b[0m\u001b[1;33m\u001b[0m\u001b[1;33m\u001b[0m\u001b[0m\n",
      "\u001b[1;32mG:\\Programs\\Anaconda\\envs\\ganenv\\lib\\site-packages\\torch\\serialization.py\u001b[0m in \u001b[0;36mload_tensor\u001b[1;34m(data_type, size, key, location)\u001b[0m\n\u001b[0;32m    844\u001b[0m \u001b[1;33m\u001b[0m\u001b[0m\n\u001b[0;32m    845\u001b[0m         \u001b[0mstorage\u001b[0m \u001b[1;33m=\u001b[0m \u001b[0mzip_file\u001b[0m\u001b[1;33m.\u001b[0m\u001b[0mget_storage_from_record\u001b[0m\u001b[1;33m(\u001b[0m\u001b[0mname\u001b[0m\u001b[1;33m,\u001b[0m \u001b[0msize\u001b[0m\u001b[1;33m,\u001b[0m \u001b[0mdtype\u001b[0m\u001b[1;33m)\u001b[0m\u001b[1;33m.\u001b[0m\u001b[0mstorage\u001b[0m\u001b[1;33m(\u001b[0m\u001b[1;33m)\u001b[0m\u001b[1;33m\u001b[0m\u001b[1;33m\u001b[0m\u001b[0m\n\u001b[1;32m--> 846\u001b[1;33m         \u001b[0mloaded_storages\u001b[0m\u001b[1;33m[\u001b[0m\u001b[0mkey\u001b[0m\u001b[1;33m]\u001b[0m \u001b[1;33m=\u001b[0m \u001b[0mrestore_location\u001b[0m\u001b[1;33m(\u001b[0m\u001b[0mstorage\u001b[0m\u001b[1;33m,\u001b[0m \u001b[0mlocation\u001b[0m\u001b[1;33m)\u001b[0m\u001b[1;33m\u001b[0m\u001b[1;33m\u001b[0m\u001b[0m\n\u001b[0m\u001b[0;32m    847\u001b[0m \u001b[1;33m\u001b[0m\u001b[0m\n\u001b[0;32m    848\u001b[0m     \u001b[1;32mdef\u001b[0m \u001b[0mpersistent_load\u001b[0m\u001b[1;33m(\u001b[0m\u001b[0msaved_id\u001b[0m\u001b[1;33m)\u001b[0m\u001b[1;33m:\u001b[0m\u001b[1;33m\u001b[0m\u001b[1;33m\u001b[0m\u001b[0m\n",
      "\u001b[1;32mG:\\Programs\\Anaconda\\envs\\ganenv\\lib\\site-packages\\torch\\serialization.py\u001b[0m in \u001b[0;36mdefault_restore_location\u001b[1;34m(storage, location)\u001b[0m\n\u001b[0;32m    173\u001b[0m \u001b[1;32mdef\u001b[0m \u001b[0mdefault_restore_location\u001b[0m\u001b[1;33m(\u001b[0m\u001b[0mstorage\u001b[0m\u001b[1;33m,\u001b[0m \u001b[0mlocation\u001b[0m\u001b[1;33m)\u001b[0m\u001b[1;33m:\u001b[0m\u001b[1;33m\u001b[0m\u001b[1;33m\u001b[0m\u001b[0m\n\u001b[0;32m    174\u001b[0m     \u001b[1;32mfor\u001b[0m \u001b[0m_\u001b[0m\u001b[1;33m,\u001b[0m \u001b[0m_\u001b[0m\u001b[1;33m,\u001b[0m \u001b[0mfn\u001b[0m \u001b[1;32min\u001b[0m \u001b[0m_package_registry\u001b[0m\u001b[1;33m:\u001b[0m\u001b[1;33m\u001b[0m\u001b[1;33m\u001b[0m\u001b[0m\n\u001b[1;32m--> 175\u001b[1;33m         \u001b[0mresult\u001b[0m \u001b[1;33m=\u001b[0m \u001b[0mfn\u001b[0m\u001b[1;33m(\u001b[0m\u001b[0mstorage\u001b[0m\u001b[1;33m,\u001b[0m \u001b[0mlocation\u001b[0m\u001b[1;33m)\u001b[0m\u001b[1;33m\u001b[0m\u001b[1;33m\u001b[0m\u001b[0m\n\u001b[0m\u001b[0;32m    176\u001b[0m         \u001b[1;32mif\u001b[0m \u001b[0mresult\u001b[0m \u001b[1;32mis\u001b[0m \u001b[1;32mnot\u001b[0m \u001b[1;32mNone\u001b[0m\u001b[1;33m:\u001b[0m\u001b[1;33m\u001b[0m\u001b[1;33m\u001b[0m\u001b[0m\n\u001b[0;32m    177\u001b[0m             \u001b[1;32mreturn\u001b[0m \u001b[0mresult\u001b[0m\u001b[1;33m\u001b[0m\u001b[1;33m\u001b[0m\u001b[0m\n",
      "\u001b[1;32mG:\\Programs\\Anaconda\\envs\\ganenv\\lib\\site-packages\\torch\\serialization.py\u001b[0m in \u001b[0;36m_cuda_deserialize\u001b[1;34m(obj, location)\u001b[0m\n\u001b[0;32m    155\u001b[0m                 \u001b[1;32mreturn\u001b[0m \u001b[0mstorage_type\u001b[0m\u001b[1;33m(\u001b[0m\u001b[0mobj\u001b[0m\u001b[1;33m.\u001b[0m\u001b[0msize\u001b[0m\u001b[1;33m(\u001b[0m\u001b[1;33m)\u001b[0m\u001b[1;33m)\u001b[0m\u001b[1;33m\u001b[0m\u001b[1;33m\u001b[0m\u001b[0m\n\u001b[0;32m    156\u001b[0m         \u001b[1;32melse\u001b[0m\u001b[1;33m:\u001b[0m\u001b[1;33m\u001b[0m\u001b[1;33m\u001b[0m\u001b[0m\n\u001b[1;32m--> 157\u001b[1;33m             \u001b[1;32mreturn\u001b[0m \u001b[0mobj\u001b[0m\u001b[1;33m.\u001b[0m\u001b[0mcuda\u001b[0m\u001b[1;33m(\u001b[0m\u001b[0mdevice\u001b[0m\u001b[1;33m)\u001b[0m\u001b[1;33m\u001b[0m\u001b[1;33m\u001b[0m\u001b[0m\n\u001b[0m\u001b[0;32m    158\u001b[0m \u001b[1;33m\u001b[0m\u001b[0m\n\u001b[0;32m    159\u001b[0m \u001b[1;33m\u001b[0m\u001b[0m\n",
      "\u001b[1;32mG:\\Programs\\Anaconda\\envs\\ganenv\\lib\\site-packages\\torch\\_utils.py\u001b[0m in \u001b[0;36m_cuda\u001b[1;34m(self, device, non_blocking, **kwargs)\u001b[0m\n\u001b[0;32m     77\u001b[0m         \u001b[1;32melse\u001b[0m\u001b[1;33m:\u001b[0m\u001b[1;33m\u001b[0m\u001b[1;33m\u001b[0m\u001b[0m\n\u001b[0;32m     78\u001b[0m             \u001b[0mnew_type\u001b[0m \u001b[1;33m=\u001b[0m \u001b[0mgetattr\u001b[0m\u001b[1;33m(\u001b[0m\u001b[0mtorch\u001b[0m\u001b[1;33m.\u001b[0m\u001b[0mcuda\u001b[0m\u001b[1;33m,\u001b[0m \u001b[0mself\u001b[0m\u001b[1;33m.\u001b[0m\u001b[0m__class__\u001b[0m\u001b[1;33m.\u001b[0m\u001b[0m__name__\u001b[0m\u001b[1;33m)\u001b[0m\u001b[1;33m\u001b[0m\u001b[1;33m\u001b[0m\u001b[0m\n\u001b[1;32m---> 79\u001b[1;33m             \u001b[1;32mreturn\u001b[0m \u001b[0mnew_type\u001b[0m\u001b[1;33m(\u001b[0m\u001b[0mself\u001b[0m\u001b[1;33m.\u001b[0m\u001b[0msize\u001b[0m\u001b[1;33m(\u001b[0m\u001b[1;33m)\u001b[0m\u001b[1;33m)\u001b[0m\u001b[1;33m.\u001b[0m\u001b[0mcopy_\u001b[0m\u001b[1;33m(\u001b[0m\u001b[0mself\u001b[0m\u001b[1;33m,\u001b[0m \u001b[0mnon_blocking\u001b[0m\u001b[1;33m)\u001b[0m\u001b[1;33m\u001b[0m\u001b[1;33m\u001b[0m\u001b[0m\n\u001b[0m\u001b[0;32m     80\u001b[0m \u001b[1;33m\u001b[0m\u001b[0m\n\u001b[0;32m     81\u001b[0m \u001b[1;33m\u001b[0m\u001b[0m\n",
      "\u001b[1;31mKeyboardInterrupt\u001b[0m: "
     ]
    }
   ],
   "source": [
    "for e in range(280000,316000,2000) :\n",
    "    noise = torch.randn(1,100, 1, 1, device=device)\n",
    "    model_permutations_old=torch.load(\"permutation_progress/model_permutations_E{}\".format(e))\n",
    "    print(\"epoch\",e)\n",
    "    for model_data in model_permutations_old :\n",
    "        if \"2d keep vectors matrix no shuffle\"== model_data[\"name\"] :\n",
    "            \n",
    "            with torch.no_grad():\n",
    "                print(model_data[\"name\"])\n",
    "                generator=model_data[\"generator\"]\n",
    "                generated=generator(noise)\n",
    "                print_recipe_vals(generated.cpu().detach(),4)\n",
    "                print_data(generated.cpu().detach())\n",
    "                print(\"\\n\")"
   ]
  },
  {
   "cell_type": "code",
   "execution_count": 24,
   "metadata": {},
   "outputs": [],
   "source": [
    "models=torch.load(\"triple/model_dict_E0\")\n"
   ]
  },
  {
   "cell_type": "code",
   "execution_count": 193,
   "metadata": {},
   "outputs": [
    {
     "name": "stdout",
     "output_type": "stream",
     "text": [
      "dict_keys(['partial shuffle', 'no shuffle', 'partial shuffle multiply', 'no shuffle multiply'])\n",
      "partial shuffle\n",
      "no shuffle\n",
      "partial shuffle multiply\n",
      "True\n",
      "no shuffle multiply\n",
      "True\n"
     ]
    }
   ],
   "source": [
    "# models={}\n",
    "# # sum_desc=None\n",
    "# # sum_gen_loss=None\n",
    "# # sum_desc_loss=None\n",
    "# # sum_dataloader=None\n",
    "# # sum_discriminator_optimizer=None\n",
    "# # sum_function=None\n",
    "# print(sum_function)\n",
    "# sum_discriminator=None\n",
    "# for model_data in model_permutations_old :\n",
    "#     name=model_data[\"name\"].replace(\"2d keep vectors matrix \",\"\")\n",
    "#     if '1d' not in name :\n",
    "#         if 'replace' not in name :\n",
    "#             if 'full' not in name :\n",
    "#                 if 'sum' in name :\n",
    "# #                     model_data[\"sum discriminator loss\"]=deepcopy(sum_desc_loss)\n",
    "# #                     model_data[\"sum dataloader\"]=deepcopy(sum_dataloader)\n",
    "# #                     model_data[\"sum discriminator optimizer\"]=deepcopy(sum_discriminator_optimizer)\n",
    "# #                     model_data[\"sum function\"]=sum_function\n",
    "# #                     model_data[\"multiply loss\"]=False\n",
    "#                     sum_discriminator=model_data[\"discriminator\"]\n",
    "                    \n",
    "\n",
    "#                     print(name)\n",
    "#                     print(model_data.keys())\n",
    "#                     print()\n",
    "#                     models[name]=model_data\n",
    "# #                 else :sum_desc_loss=model_data[\"discriminator loss\"]\n",
    "\n",
    "# if 'partial shuffle' in permutation :\n",
    "#     model_data[\"dataloader\"]=DataLoader(shuffled_matrices, batch_size=128, shuffle=True)\n",
    "\n",
    "\n",
    "# elif  'no shuffle' in permutation :\n",
    "#     model_data[\"dataloader\"]=DataLoader(unaugmented_matrices, batch_size=32, shuffle=True)\n",
    "# else :print(\"Something went wrong 2\")\n",
    "\n",
    "    \n",
    "\n",
    "\n",
    "print(models.keys())\n",
    "# models[\"no shuffle multiply\"] = deepcopy(models[\"no shuffle\"])\n",
    "# del models[\"partial shuffle multiply\"]\n",
    "for model_data in models.values():\n",
    "    model_data[\"data iterator\"]=None \n",
    "    model_data[\"sum iterator\"]=None \n",
    "\n",
    "# new_list=[]                   \n",
    "for name,model_data in models.items() :\n",
    "    print(name)\n",
    "    for key,value in model_data.items() :\n",
    "#         print(key)\n",
    "        if \"loss\" in key:\n",
    "#             print(key)\n",
    "            model_data[key]=[]\n",
    "    if \"multiply\" in name :\n",
    "        model_data[\"multiply loss\"]=True\n",
    "        print(model_data[\"multiply loss\"])\n",
    "     \n",
    "    model_data[\"sum dataloader\"]=DataLoader(recipe_matrices, batch_size=32, shuffle=True)\n",
    "    if \"shuffle\" in name :\n",
    "        model_data[\"dataloader\"]=DataLoader(shuffled_matrices, batch_size=32, shuffle=True)\n",
    "    else :\n",
    "\n",
    "        model_data[\"dataloader\"]=DataLoader(unaugmented_matrices, batch_size=32, shuffle=True)\n",
    "\n",
    "    model_data[\"discriminator\"]=Discriminator2D().float().to(device)\n",
    "    model_data[\"sum discriminator\"]=DiscriminatorLinear().float().to(device)\n",
    "    model_data[\"generator\"]=Generator2D().float().to(device)\n",
    "    model_data[\"discriminator\"].apply(weights_init)\n",
    "    model_data[\"sum discriminator\"].apply(weights_init)\n",
    "    model_data[\"generator\"].apply(weights_init)\n",
    "\n",
    "\n",
    "    model_data[\"sum discriminator optimizer\"]=optim.Adam(model_data[\"sum discriminator\"].parameters(), lr=.0002, betas=(beta1, 0.999)) #SUM\n",
    "    model_data[\"discriminator optimizer\"]=optim.Adam(model_data[\"discriminator\"].parameters(), lr=.0002, betas=(beta1, 0.999)) #DISC\n",
    "    model_data[\"generator optimizer\"]=optim.Adam(model_data[\"generator\"].parameters(), lr=0.0002, betas=(beta1, 0.999)) #GEN\n",
    "    model_data[\"sum function\"]=convert_tensor_to_recipe\n"
   ]
  },
  {
   "cell_type": "code",
   "execution_count": 194,
   "metadata": {},
   "outputs": [],
   "source": [
    "num_epochs=1000000\n",
    "# model_permutations=torch.load(\"triple/model_permutations_E49920\")\n",
    "prev_epoch=0\n",
    "save_data_dict(models,prev_epoch,folder=\"triple\")"
   ]
  },
  {
   "cell_type": "code",
   "execution_count": 221,
   "metadata": {
    "tags": []
   },
   "outputs": [
    {
     "name": "stdout",
     "output_type": "stream",
     "text": [
      "\n",
      "partial shuffle\n",
      "2.37 oz white rum\n",
      "0.34 oz egg\n"
     ]
    },
    {
     "data": {
      "image/png": "[encoded data removed]",
      "text/plain": [
       "<Figure size 432x288 with 1 Axes>"
      ]
     },
     "metadata": {},
     "output_type": "display_data"
    },
    {
     "name": "stdout",
     "output_type": "stream",
     "text": [
      "\n",
      "\n"
     ]
    },
    {
     "data": {
      "image/png": "[encoded data removed]",
      "text/plain": [
       "<Figure size 432x288 with 1 Axes>"
      ]
     },
     "metadata": {},
     "output_type": "display_data"
    },
    {
     "name": "stdout",
     "output_type": "stream",
     "text": [
      "\n",
      "no shuffle\n",
      "0.00 oz egg\n"
     ]
    },
    {
     "data": {
      "image/png": "[encoded data removed]",
      "text/plain": [
       "<Figure size 432x288 with 1 Axes>"
      ]
     },
     "metadata": {},
     "output_type": "display_data"
    },
    {
     "name": "stdout",
     "output_type": "stream",
     "text": [
      "\n",
      "\n"
     ]
    },
    {
     "data": {
      "image/png": "[encoded data removed]",
      "text/plain": [
       "<Figure size 432x288 with 1 Axes>"
      ]
     },
     "metadata": {},
     "output_type": "display_data"
    },
    {
     "name": "stdout",
     "output_type": "stream",
     "text": [
      "epoch 999000\n",
      "epoch 999100\n",
      "epoch 999200\n",
      "epoch 999300\n",
      "epoch 999400\n",
      "epoch 999500\n",
      "epoch 999600\n",
      "epoch 999700\n",
      "epoch 999800\n",
      "epoch 999900\n"
     ]
    }
   ],
   "source": [
    "#TRAIN\n",
    "for epoch in range(prev_epoch,num_epochs):\n",
    "    prev_epoch=epoch\n",
    "\n",
    "    #iterate over models\n",
    "    for model_data in models.values():\n",
    "        if model_data[\"activated\" ] :\n",
    "#             print(model_data[\"name\"])\n",
    "            ############################\n",
    "            # (1) Update D network: maximize log(D(x)) + log(1 - D(G(z)))\n",
    "            ###########################\n",
    "            ## Train with all-real batch\n",
    "\n",
    "            #update sum discriminator\n",
    "\n",
    "            \n",
    "            \n",
    "            #Update matrix discriminator\n",
    "            model_data[\"discriminator\"].zero_grad()\n",
    "\n",
    "            # Format batch\n",
    "            real_batch=load_data(model_data)\n",
    "#             print_data(real_batch.detach().cpu())\n",
    "            b_size = real_batch.size(0)\n",
    "            real_batch=real_batch.to(device)\n",
    "           \n",
    "            #labels = torch.full((b_size,), 1., dtype=torch.float, device=device)\n",
    "            labels=torch.empty((b_size,), dtype=torch.float, device=device).uniform_(0.95, 1.00)\n",
    "            \n",
    "            # Forward pass real batch through D\n",
    "            output = model_data[\"discriminator\"](real_batch.float()).view(-1)\n",
    "            \n",
    "            # Calculate loss on all-real batch\n",
    "            errD_real = model_data[\"criterion\"](output, labels)\n",
    "            \n",
    "\n",
    "\n",
    "            # Calculate gradients for D in backward pass\n",
    "            errD_real.backward()\n",
    "            D_x = output.mean().item()\n",
    "            \n",
    "            ## TRAIN DISCRIMINATOR ON GENERATOR ##\n",
    "\n",
    "            ## Train with all-fake batch\n",
    "            # Generate batch of latent vectors\n",
    "            noise = torch.randn(b_size, 100, 1, 1, device=device)\n",
    "\n",
    "            # Generate fake image batch with generator\n",
    "            fake_batch = model_data[\"generator\"](noise)\n",
    "            \n",
    "\n",
    "            \n",
    "            #labels.fill_(0.) #fill with fake tag\n",
    "            labels=torch.empty((b_size,), dtype=torch.float, device=device).uniform_(0., 0.05)\n",
    "            \n",
    "            #pass generated and processed data into the disciminator\n",
    "            output = model_data[\"discriminator\"](fake_batch.detach()).view(-1) #this should be detached as this is not training the discriminator\n",
    "            \n",
    "            errD_fake = model_data[\"criterion\"](output, labels)\n",
    "            \n",
    "            # Calculate the gradients for this batch, accumulated (summed) with previous gradients\n",
    "            errD_fake.backward()\n",
    "#             D_G_z1 = output.mean().item()\n",
    "\n",
    "            # Compute error of D as sum over the fake and the real batches\n",
    "            errD = errD_real + errD_fake\n",
    "            # Update D\n",
    "            model_data[\"discriminator optimizer\"].step()\n",
    "\n",
    "            ############################\n",
    "            # (2) Update G network: maximize log(D(G(z)))\n",
    "            ###########################\n",
    "            model_data[\"generator\"].zero_grad()\n",
    "\n",
    "            ## TRAIN GENERATOR ON DISCRIMINATOR ##\n",
    "            \n",
    "            labels=torch.empty((b_size,), dtype=torch.float, device=device).uniform_(0.95, 1.0)\n",
    "    \n",
    "            # Since we just updated D, perform another forward pass of all-fake batch through D\n",
    "            output = model_data[\"discriminator\"](fake_batch).view(-1)\n",
    "            \n",
    "            # Calculate G's loss based on this output\n",
    "            errG = model_data[\"criterion\"](output, labels)\n",
    "\n",
    "            if model_data[\"multiply loss\"] :\n",
    "                errG=errG**2\n",
    "            # Calculate gradients for G\n",
    "            errG.backward()\n",
    "            D_G_z2 = output.mean().item()\n",
    "            \n",
    "            model_data[\"generator optimizer\"].step()\n",
    "            \n",
    "            ### SUM DISCRIMINATOR PASS  ####################################################################\n",
    "            ## TRAIN DISCRIMINATOR ON REAL ##\n",
    "            \n",
    "            model_data[\"sum discriminator\"].zero_grad()\n",
    "            \n",
    "            #load data\n",
    "            sum_real_batch=load_data(model_data,dataloader_text=\"sum dataloader\",iterator_text=\"sum iterator\")\n",
    "            sum_b_size = sum_real_batch.size(0)\n",
    "            sum_real_batch=sum_real_batch.to(device)\n",
    "\n",
    "            #init labels\n",
    "            #sum_labels = torch.full((sum_b_size,), 1., dtype=torch.float, device=device)\n",
    "            sum_labels =torch.empty((sum_b_size,), dtype=torch.float, device=device).uniform_(.9, 1.1)\n",
    "            \n",
    "            #pass through\n",
    "            sum_output = model_data[\"sum discriminator\"](sum_real_batch.float()).view(-1)\n",
    "            sum_errD_real = model_data[\"criterion\"](sum_output, sum_labels)\n",
    "            sum_errD_real.backward()\n",
    "            \n",
    "            ## TRAIN DISCRIMINATOR ON GENERATOR ##\n",
    "            noise = torch.randn(sum_b_size, 100, 1, 1, device=device)\n",
    "\n",
    "            # Generate fake image batch with generator\n",
    "            fake_batch = model_data[\"generator\"](noise)\n",
    "            \n",
    "            sum_labels =torch.empty((sum_b_size,), dtype=torch.float, device=device).uniform_(0., .1)\n",
    "            sum_fake_batch=model_data[\"sum function\"](fake_batch)\n",
    "            \n",
    "            #pass generated and processed data into the disciminator\n",
    "            sum_output = model_data[\"sum discriminator\"](sum_fake_batch.detach()).view(-1) #this should be detached as this is not training the discriminator\n",
    "            sum_errD_fake = model_data[\"criterion\"](sum_output, sum_labels)\n",
    "\n",
    "            # Calculate the gradients for this batch, accumulated (summed) with previous gradients\n",
    "            sum_errD_fake.backward()\n",
    "#             D_G_z1 = output.mean().item()\n",
    "\n",
    "            # Compute error of D as sum over the fake and the real batches\n",
    "            sum_errD = sum_errD_real + sum_errD_fake\n",
    "            # Update D\n",
    "            model_data[\"sum discriminator optimizer\"].step()\n",
    "            \n",
    "            if epoch>10000 :\n",
    "\n",
    "                ## TRAIN GENERATOR ON DISCRIMINATOR ##\n",
    "\n",
    "                sum_labels =torch.empty((sum_b_size,), dtype=torch.float, device=device).uniform_(.9, 1.1)\n",
    "                sum_output = model_data[\"sum discriminator\"](sum_fake_batch).view(-1)\n",
    "                sum_errG = model_data[\"criterion\"](sum_output, sum_labels)  \n",
    "                sum_errG.backward()\n",
    "\n",
    "                # Update G\n",
    "                model_data[\"generator optimizer\"].step()\n",
    "\n",
    "\n",
    "            # Save Losses for plotting later\n",
    "            model_data[\"sum discriminator loss\"].append(sum_errD.item())\n",
    "            model_data[\"generator loss\"].append(errG.item()+sum_errG.item())\n",
    "            model_data[\"discriminator loss\"].append(errD.item())\n",
    "\n",
    "    # Output training stats & save\n",
    "    if epoch % 1000 == 0:\n",
    "#         print(\"epoch\",epoch)\n",
    "        save_data_dict(models,epoch,folder=\"triple\")\n",
    "    \n",
    "    if epoch % 1000 == 0:\n",
    "        clear_output()\n",
    "\n",
    "        noise = torch.randn(1,100, 1, 1, device=device)\n",
    "#         for model_data in model_permutations:\n",
    "\n",
    "        for model_data in models.values():\n",
    "            if model_data[\"activated\"] :\n",
    "\n",
    "            #print LR\n",
    "#                 for key, item in model_data.items() :\n",
    "#                     if \"optimizer\" in key :\n",
    "#                         print(key)\n",
    "#                         for param_group in item.param_groups:\n",
    "#                             print(\"lr=\",param_group['lr'],\"\\n\")\n",
    "                print()\n",
    "                \n",
    "                with torch.no_grad():\n",
    "                    print(model_data[\"name\"])\n",
    "                    generator=model_data[\"generator\"]\n",
    "                    generated=generator(noise)\n",
    "                    print_recipe_vals(generated.cpu().detach(),4)\n",
    "                    print_data(generated.cpu().detach())\n",
    "                    print(\"\\n\")\n",
    "                \n",
    "                    N=2000\n",
    "                    if len([\"discriminator loss\"])<N :\n",
    "                        N= len([\"discriminator loss\"])\n",
    "                    N=1000\n",
    "                    fig, ax1 = plt.subplots()\n",
    "                    #ax2=ax1.twinx()\n",
    "                    ax1.plot(model_data[\"discriminator loss\"][-N:],label=\"discriminator\",color=\"orange\")\n",
    "                    ax1.plot(model_data[\"generator loss\"][-N:],label=\"generator\")\n",
    "                    ax1.plot(model_data[\"sum discriminator loss\"][-N:],label=\"sum discriminator\",color=\"green\")\n",
    "            \n",
    "                    ax1.set_xlabel(\"epoch\")\n",
    "#                         ax2.set_xlabel(\"epoch\")\n",
    "                    plt.title(model_data[\"name\"])                        \n",
    "                    plt.legend()\n",
    "#print(model_data[\"name\"])ax11.set_yscale('log')\n",
    "#                     ax1.set_yscale('log')\n",
    "#                     ax2.set_yscale('log')\n",
    "\n",
    "                    plt.style.use('dark_background')\n",
    "                    plt.show()\n",
    "    if epoch%100==0 :\n",
    "        print(\"epoch\",epoch)\n",
    "        \n",
    "#     if epoch%15000==0 and epoch>0 :\n",
    "#         for model_data in models.values():\n",
    "#             for key, item in model_data.items() :\n",
    "#                 if \"optimizer\" in key :\n",
    "#                     for param_group in item.param_groups:\n",
    "#                         step=.000001\n",
    "#                         if param_group['lr']>.0000005 :\n",
    "#                             param_group['lr']=param_group['lr']/2\n",
    "#                             print(\"UPDATED LR TO\",param_group['lr'])"
   ]
  },
  {
   "cell_type": "code",
   "execution_count": 216,
   "metadata": {},
   "outputs": [],
   "source": [
    "for model_data in models.values():\n",
    "    for key, item in model_data.items() :\n",
    "        if \"optimizer\" in key :\n",
    "            for param_group in item.param_groups:\n",
    "                param_group['lr']=.00001\n"
   ]
  },
  {
   "cell_type": "code",
   "execution_count": 220,
   "metadata": {},
   "outputs": [
    {
     "name": "stdout",
     "output_type": "stream",
     "text": [
      "partial shuffle\n",
      "1.56 oz gin\n",
      "0.00 oz egg\n"
     ]
    },
    {
     "data": {
      "image/png": "[encoded data removed]",
      "text/plain": [
       "<Figure size 432x288 with 1 Axes>"
      ]
     },
     "metadata": {},
     "output_type": "display_data"
    },
    {
     "name": "stdout",
     "output_type": "stream",
     "text": [
      "\n",
      "\n",
      "partial shuffle\n",
      "1.25 oz wiskey\n",
      "0.00 oz sugar cube\n",
      "0.00 oz egg\n"
     ]
    },
    {
     "data": {
      "image/png": "[encoded data removed]",
      "text/plain": [
       "<Figure size 432x288 with 1 Axes>"
      ]
     },
     "metadata": {},
     "output_type": "display_data"
    },
    {
     "name": "stdout",
     "output_type": "stream",
     "text": [
      "\n",
      "\n",
      "partial shuffle\n",
      "0.76 oz egg\n",
      "1.71 oz sugar cube\n",
      "0.00 oz tomato juice\n"
     ]
    },
    {
     "data": {
      "image/png": "[encoded data removed]",
      "text/plain": [
       "<Figure size 432x288 with 1 Axes>"
      ]
     },
     "metadata": {},
     "output_type": "display_data"
    },
    {
     "name": "stdout",
     "output_type": "stream",
     "text": [
      "\n",
      "\n",
      "partial shuffle\n",
      "1.51 oz vodka\n",
      "0.00 oz egg\n",
      "0.00 oz tomato juice\n"
     ]
    },
    {
     "data": {
      "image/png": "[encoded data removed]",
      "text/plain": [
       "<Figure size 432x288 with 1 Axes>"
      ]
     },
     "metadata": {},
     "output_type": "display_data"
    },
    {
     "name": "stdout",
     "output_type": "stream",
     "text": [
      "\n",
      "\n",
      "partial shuffle\n",
      "0.86 oz white rum\n",
      "0.47 oz lime\n",
      "0.00 oz egg\n"
     ]
    },
    {
     "data": {
      "image/png": "[encoded data removed]",
      "text/plain": [
       "<Figure size 432x288 with 1 Axes>"
      ]
     },
     "metadata": {},
     "output_type": "display_data"
    },
    {
     "name": "stdout",
     "output_type": "stream",
     "text": [
      "\n",
      "\n",
      "partial shuffle\n",
      "0.33 oz jalapeno\n",
      "1.47 oz wiskey\n",
      "0.00 oz egg\n"
     ]
    },
    {
     "data": {
      "image/png": "[encoded data removed]",
      "text/plain": [
       "<Figure size 432x288 with 1 Axes>"
      ]
     },
     "metadata": {},
     "output_type": "display_data"
    },
    {
     "name": "stdout",
     "output_type": "stream",
     "text": [
      "\n",
      "\n",
      "partial shuffle\n",
      "0.00 oz egg\n"
     ]
    },
    {
     "data": {
      "image/png": "[encoded data removed]",
      "text/plain": [
       "<Figure size 432x288 with 1 Axes>"
      ]
     },
     "metadata": {},
     "output_type": "display_data"
    },
    {
     "name": "stdout",
     "output_type": "stream",
     "text": [
      "\n",
      "\n",
      "partial shuffle\n",
      "0.66 oz white rum\n",
      "0.14 oz egg\n"
     ]
    },
    {
     "data": {
      "image/png": "[encoded data removed]",
      "text/plain": [
       "<Figure size 432x288 with 1 Axes>"
      ]
     },
     "metadata": {},
     "output_type": "display_data"
    },
    {
     "name": "stdout",
     "output_type": "stream",
     "text": [
      "\n",
      "\n",
      "partial shuffle\n",
      "1.84 oz gin\n",
      "0.02 oz egg\n"
     ]
    },
    {
     "data": {
      "image/png": "[encoded data removed]",
      "text/plain": [
       "<Figure size 432x288 with 1 Axes>"
      ]
     },
     "metadata": {},
     "output_type": "display_data"
    },
    {
     "name": "stdout",
     "output_type": "stream",
     "text": [
      "\n",
      "\n",
      "partial shuffle\n",
      "1.69 oz white rum\n",
      "0.00 oz egg\n"
     ]
    },
    {
     "data": {
      "image/png": "[encoded data removed]",
      "text/plain": [
       "<Figure size 432x288 with 1 Axes>"
      ]
     },
     "metadata": {},
     "output_type": "display_data"
    },
    {
     "name": "stdout",
     "output_type": "stream",
     "text": [
      "\n",
      "\n",
      "no shuffle\n",
      "1.75 oz sugar cube\n",
      "1.51 oz vodka\n",
      "0.00 oz egg\n"
     ]
    },
    {
     "data": {
      "image/png": "[encoded data removed]",
      "text/plain": [
       "<Figure size 432x288 with 1 Axes>"
      ]
     },
     "metadata": {},
     "output_type": "display_data"
    },
    {
     "name": "stdout",
     "output_type": "stream",
     "text": [
      "\n",
      "\n",
      "no shuffle\n",
      "1.53 oz gin\n",
      "0.00 oz egg\n"
     ]
    },
    {
     "data": {
      "image/png": "[encoded data removed]",
      "text/plain": [
       "<Figure size 432x288 with 1 Axes>"
      ]
     },
     "metadata": {},
     "output_type": "display_data"
    },
    {
     "name": "stdout",
     "output_type": "stream",
     "text": [
      "\n",
      "\n",
      "no shuffle\n",
      "1.81 oz sugar cube\n",
      "2.70 oz white rum\n",
      "0.29 oz orange juice\n",
      "0.00 oz egg\n"
     ]
    },
    {
     "data": {
      "image/png": "[encoded data removed]",
      "text/plain": [
       "<Figure size 432x288 with 1 Axes>"
      ]
     },
     "metadata": {},
     "output_type": "display_data"
    },
    {
     "name": "stdout",
     "output_type": "stream",
     "text": [
      "\n",
      "\n",
      "no shuffle\n",
      "1.12 oz lime\n",
      "0.00 oz egg\n"
     ]
    },
    {
     "data": {
      "image/png": "[encoded data removed]",
      "text/plain": [
       "<Figure size 432x288 with 1 Axes>"
      ]
     },
     "metadata": {},
     "output_type": "display_data"
    },
    {
     "name": "stdout",
     "output_type": "stream",
     "text": [
      "\n",
      "\n",
      "no shuffle\n",
      "1.71 oz sugar cube\n",
      "1.55 oz vodka\n",
      "0.00 oz egg\n"
     ]
    },
    {
     "data": {
      "image/png": "[encoded data removed]",
      "text/plain": [
       "<Figure size 432x288 with 1 Axes>"
      ]
     },
     "metadata": {},
     "output_type": "display_data"
    },
    {
     "name": "stdout",
     "output_type": "stream",
     "text": [
      "\n",
      "\n",
      "no shuffle\n",
      "1.31 oz gin\n",
      "0.00 oz egg\n"
     ]
    },
    {
     "data": {
      "image/png": "[encoded data removed]",
      "text/plain": [
       "<Figure size 432x288 with 1 Axes>"
      ]
     },
     "metadata": {},
     "output_type": "display_data"
    },
    {
     "name": "stdout",
     "output_type": "stream",
     "text": [
      "\n",
      "\n",
      "no shuffle\n",
      "0.66 oz lime\n",
      "0.21 oz egg\n",
      "2.90 oz white rum\n"
     ]
    },
    {
     "data": {
      "image/png": "[encoded data removed]",
      "text/plain": [
       "<Figure size 432x288 with 1 Axes>"
      ]
     },
     "metadata": {},
     "output_type": "display_data"
    },
    {
     "name": "stdout",
     "output_type": "stream",
     "text": [
      "\n",
      "\n",
      "no shuffle\n",
      "1.85 oz sugar cube\n",
      "2.13 oz white rum\n",
      "0.58 oz egg\n"
     ]
    },
    {
     "data": {
      "image/png": "[encoded data removed]",
      "text/plain": [
       "<Figure size 432x288 with 1 Axes>"
      ]
     },
     "metadata": {},
     "output_type": "display_data"
    },
    {
     "name": "stdout",
     "output_type": "stream",
     "text": [
      "\n",
      "\n",
      "no shuffle\n",
      "1.88 oz gin\n",
      "0.00 oz egg\n"
     ]
    },
    {
     "data": {
      "image/png": "[encoded data removed]",
      "text/plain": [
       "<Figure size 432x288 with 1 Axes>"
      ]
     },
     "metadata": {},
     "output_type": "display_data"
    },
    {
     "name": "stdout",
     "output_type": "stream",
     "text": [
      "\n",
      "\n",
      "no shuffle\n",
      "2.05 oz white rum\n",
      "0.00 oz egg\n"
     ]
    },
    {
     "data": {
      "image/png": "[encoded data removed]",
      "text/plain": [
       "<Figure size 432x288 with 1 Axes>"
      ]
     },
     "metadata": {},
     "output_type": "display_data"
    },
    {
     "name": "stdout",
     "output_type": "stream",
     "text": [
      "\n",
      "\n"
     ]
    }
   ],
   "source": [
    "for model_data in models.values():\n",
    "    if model_data[\"activated\"] :\n",
    "        for i in range(10) :\n",
    "            noise = torch.randn(1,100, 1, 1, device=device)\n",
    "            with torch.no_grad():\n",
    "                print(model_data[\"name\"])\n",
    "                generator=model_data[\"generator\"]\n",
    "                generated=generator(noise)\n",
    "                print_recipe_vals(generated.cpu().detach(),4)\n",
    "                print_data(generated.cpu().detach())\n",
    "                print(\"\\n\")"
   ]
  },
  {
   "cell_type": "code",
   "execution_count": null,
   "metadata": {},
   "outputs": [],
   "source": []
  }
 ],
 "metadata": {
  "kernelspec": {
   "display_name": "Python 3 (ipykernel)",
   "language": "python",
   "name": "python3"
  },
  "language_info": {
   "codemirror_mode": {
    "name": "ipython",
    "version": 3
   },
   "file_extension": ".py",
   "mimetype": "text/x-python",
   "name": "python",
   "nbconvert_exporter": "python",
   "pygments_lexer": "ipython3",
   "version": "3.9.7"
  }
 },
 "nbformat": 4,
 "nbformat_minor": 4
}
